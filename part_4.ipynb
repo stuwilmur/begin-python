{
 "cells": [
  {
   "cell_type": "markdown",
   "metadata": {},
   "source": [
    "# Python part 4 #\n",
    "## Looping through data structures ##\n",
    "Iterating through data structures is a very common programming task. Let's think about printing each value in a list:"
   ]
  },
  {
   "cell_type": "code",
   "execution_count": 1,
   "metadata": {},
   "outputs": [],
   "source": [
    "my_list = [0, 1, 2, 3, 4, 5, 6, 7, 8, 9]"
   ]
  },
  {
   "cell_type": "markdown",
   "metadata": {},
   "source": [
    "We could loop over the list like this:"
   ]
  },
  {
   "cell_type": "code",
   "execution_count": 2,
   "metadata": {},
   "outputs": [
    {
     "name": "stdout",
     "output_type": "stream",
     "text": [
      "0\n",
      "1\n",
      "2\n",
      "3\n",
      "4\n",
      "5\n",
      "6\n",
      "7\n",
      "8\n",
      "9\n"
     ]
    }
   ],
   "source": [
    "for i in range(0, len(my_list)):\n",
    "    print(my_list[i])"
   ]
  },
  {
   "cell_type": "markdown",
   "metadata": {},
   "source": [
    "though we've alread seen a nicer way of doing this using `in`:"
   ]
  },
  {
   "cell_type": "code",
   "execution_count": 3,
   "metadata": {},
   "outputs": [
    {
     "name": "stdout",
     "output_type": "stream",
     "text": [
      "0\n",
      "1\n",
      "2\n",
      "3\n",
      "4\n",
      "5\n",
      "6\n",
      "7\n",
      "8\n",
      "9\n"
     ]
    }
   ],
   "source": [
    "for x in my_list:\n",
    "    print(x)"
   ]
  },
  {
   "cell_type": "markdown",
   "metadata": {},
   "source": [
    "The `x` here is a variable that gets assigned for each item: we can call it whatever we like. We can do the same thing with a set:"
   ]
  },
  {
   "cell_type": "code",
   "execution_count": 4,
   "metadata": {},
   "outputs": [
    {
     "name": "stdout",
     "output_type": "stream",
     "text": [
      "Hugo\n",
      "Auric\n",
      "Julius\n"
     ]
    }
   ],
   "source": [
    "my_set = {\"Auric\", \"Hugo\", \"Julius\"}\n",
    "for item in my_set:\n",
    "    print(item)"
   ]
  },
  {
   "cell_type": "markdown",
   "metadata": {},
   "source": [
    "What about a dictionary?"
   ]
  },
  {
   "cell_type": "code",
   "execution_count": 5,
   "metadata": {},
   "outputs": [
    {
     "name": "stdout",
     "output_type": "stream",
     "text": [
      "Helium\n",
      "Lithium\n",
      "Beryllium\n"
     ]
    }
   ],
   "source": [
    "my_dict = {\"Helium\" : 4, \"Lithium\" : 6, \"Beryllium\" : 8}\n",
    "for x in my_dict:\n",
    "    print(x)"
   ]
  },
  {
   "cell_type": "markdown",
   "metadata": {},
   "source": [
    "See how by default, we just iterate over the ***keys***, not the ***values***. To iterate over keys and values at the same time, use the `items` method:"
   ]
  },
  {
   "cell_type": "code",
   "execution_count": 6,
   "metadata": {},
   "outputs": [
    {
     "name": "stdout",
     "output_type": "stream",
     "text": [
      "Helium : 4\n",
      "Lithium : 6\n",
      "Beryllium : 8\n"
     ]
    }
   ],
   "source": [
    "for key, value in my_dict.items():\n",
    "    print (key, \":\", value)"
   ]
  },
  {
   "cell_type": "markdown",
   "metadata": {},
   "source": [
    "Again, `key` and `value` are variables that are assigned automatically for each entry in the dictionary. Their names don't matter, but it is common to use `key` and `value`/`item`, or `k` and `v`/`i`."
   ]
  },
  {
   "cell_type": "markdown",
   "metadata": {},
   "source": [
    "### <span class=\"girk\">Ex 4.1</span> ###\n",
    "Each item in the dictionary `stocklist` describes an item of a retailer's stock; the key is the price of the item, and the value is the number of items in stock."
   ]
  },
  {
   "cell_type": "code",
   "execution_count": 7,
   "metadata": {},
   "outputs": [],
   "source": [
    "stocklist = {\n",
    "         1.23 : 586,\n",
    "         8.99 : 1080,\n",
    "         2.68 : 2997,\n",
    "         20.71 : 10,\n",
    "         5.99 : 1007,\n",
    "         0.43 : 3021\n",
    "}"
   ]
  },
  {
   "cell_type": "markdown",
   "metadata": {
    "solution2": "hidden",
    "solution2_first": true
   },
   "source": [
    "Use the `items` method to calculate the total value of all stock."
   ]
  },
  {
   "cell_type": "code",
   "execution_count": 8,
   "metadata": {
    "solution2": "hidden"
   },
   "outputs": [
    {
     "data": {
      "text/plain": [
       "26000.0"
      ]
     },
     "execution_count": 8,
     "metadata": {},
     "output_type": "execute_result"
    }
   ],
   "source": [
    "total = 0\n",
    "for price, num in stocklist.items():\n",
    "    total += price * num\n",
    "total"
   ]
  },
  {
   "cell_type": "markdown",
   "metadata": {},
   "source": [
    "## Zip ##\n",
    "Imagine you have two lists of some personal measurements: one is a list of heights in metres and another a list of weights in Kilograms, both ordered by person."
   ]
  },
  {
   "cell_type": "code",
   "execution_count": 9,
   "metadata": {},
   "outputs": [],
   "source": [
    "weights = [77.9, 84.5, 56.4, 90.2, 88.4]\n",
    "heights = [1.61, 1.84, 1.70, 1.56, 1.86]"
   ]
  },
  {
   "cell_type": "markdown",
   "metadata": {},
   "source": [
    "Let's calculate the BMIs for each person:"
   ]
  },
  {
   "cell_type": "code",
   "execution_count": 10,
   "metadata": {},
   "outputs": [
    {
     "name": "stdout",
     "output_type": "stream",
     "text": [
      "30.052852899193702\n",
      "24.958648393194707\n",
      "19.515570934256058\n",
      "37.06443129520052\n",
      "25.5520869464678\n"
     ]
    }
   ],
   "source": [
    "for i in range(0, len(weights)):\n",
    "    weight = weights[i]\n",
    "    height = heights[i]\n",
    "    print(weight / height ** 2)"
   ]
  },
  {
   "cell_type": "markdown",
   "metadata": {},
   "source": [
    "Iterating over two lists at the same time is a common task so there is a function to help: `zip`. This saves us dealing with indexed, and a couple of lines of code."
   ]
  },
  {
   "cell_type": "code",
   "execution_count": 11,
   "metadata": {},
   "outputs": [
    {
     "name": "stdout",
     "output_type": "stream",
     "text": [
      "30.052852899193702\n",
      "24.958648393194707\n",
      "19.515570934256058\n",
      "37.06443129520052\n",
      "25.5520869464678\n"
     ]
    }
   ],
   "source": [
    "for weight, height in zip(weights, heights):\n",
    "    print(weight / height ** 2)"
   ]
  },
  {
   "cell_type": "markdown",
   "metadata": {},
   "source": [
    "<div class=\"mark\">\n",
    "You can think of `zip` as zipping together two lists like this:</div><i class=\"fa fa-lightbulb-o \"></i>"
   ]
  },
  {
   "cell_type": "markdown",
   "metadata": {
    "solution2": "hidden",
    "solution2_first": true
   },
   "source": [
    "### <span class=\"girk\">Ex 4.2</span> ###\n",
    "Write a single line of code that calculates a list of BMIs using the lists `weight` and `height` above. *Hint:* use a list comprehension."
   ]
  },
  {
   "cell_type": "code",
   "execution_count": 12,
   "metadata": {
    "solution2": "hidden"
   },
   "outputs": [
    {
     "data": {
      "text/plain": [
       "[30.052852899193702,\n",
       " 24.958648393194707,\n",
       " 19.515570934256058,\n",
       " 37.06443129520052,\n",
       " 25.5520869464678]"
      ]
     },
     "execution_count": 12,
     "metadata": {},
     "output_type": "execute_result"
    }
   ],
   "source": [
    "bmis = [weight / height ** 2 for weight, height in zip(weights, heights)]\n",
    "bmis"
   ]
  },
  {
   "cell_type": "markdown",
   "metadata": {},
   "source": [
    "## Sorting and reversing lists ##\n",
    "Let's write some code to print the list of weights, but sorted. We could use the `sort` method on the list, but that would alter the list order and it would no longer correspond to the heights. Let's suppose we don't want to alter the original list so that the order still agrees with that of the heights. Instead, create a copy, sort it, and then iterate: "
   ]
  },
  {
   "cell_type": "code",
   "execution_count": 13,
   "metadata": {},
   "outputs": [
    {
     "name": "stdout",
     "output_type": "stream",
     "text": [
      "56.4\n",
      "77.9\n",
      "84.5\n",
      "88.4\n",
      "90.2\n"
     ]
    }
   ],
   "source": [
    "new_weights = weights.copy()\n",
    "new_weights.sort()\n",
    "for weight in new_weights:\n",
    "    print(weight)"
   ]
  },
  {
   "cell_type": "markdown",
   "metadata": {},
   "source": [
    "We are relieved of manually creating a copy of our list and sorting it by the `sorted` function. This function returns a sorted copy of any list, so now our code becomes:"
   ]
  },
  {
   "cell_type": "code",
   "execution_count": 14,
   "metadata": {},
   "outputs": [
    {
     "name": "stdout",
     "output_type": "stream",
     "text": [
      "56.4\n",
      "77.9\n",
      "84.5\n",
      "88.4\n",
      "90.2\n"
     ]
    }
   ],
   "source": [
    "new_weights = sorted(weights)\n",
    "for weight in new_weights:\n",
    "    print(weight)"
   ]
  },
  {
   "cell_type": "markdown",
   "metadata": {},
   "source": [
    "or even more neatly"
   ]
  },
  {
   "cell_type": "code",
   "execution_count": 15,
   "metadata": {},
   "outputs": [
    {
     "name": "stdout",
     "output_type": "stream",
     "text": [
      "56.4\n",
      "77.9\n",
      "84.5\n",
      "88.4\n",
      "90.2\n"
     ]
    }
   ],
   "source": [
    "for weight in sorted(weights):\n",
    "    print(weight)"
   ]
  },
  {
   "cell_type": "markdown",
   "metadata": {},
   "source": [
    "Similarly, `reverse` returns a reversed copy of a list. We can combine `reverse` with `sorted` to list the weights from heaviest to lightest:"
   ]
  },
  {
   "cell_type": "code",
   "execution_count": 16,
   "metadata": {
    "scrolled": false
   },
   "outputs": [
    {
     "name": "stdout",
     "output_type": "stream",
     "text": [
      "90.2\n",
      "88.4\n",
      "84.5\n",
      "77.9\n",
      "56.4\n"
     ]
    }
   ],
   "source": [
    "for weight in reversed(sorted(weights)):\n",
    "    print(weight)"
   ]
  },
  {
   "cell_type": "markdown",
   "metadata": {},
   "source": [
    "Note you can't sort a set or a dictionary: order doesn't matter for these collections. You can't sort a tuple in place (i.e. alter one) but you can return a sorted copy of one:"
   ]
  },
  {
   "cell_type": "code",
   "execution_count": 17,
   "metadata": {},
   "outputs": [
    {
     "data": {
      "text/plain": [
       "[0, 1, 2, 3, 4]"
      ]
     },
     "execution_count": 17,
     "metadata": {},
     "output_type": "execute_result"
    }
   ],
   "source": [
    "my_tuple = (1,3,2,4,0)\n",
    "sorted_tuple = sorted(my_tuple)\n",
    "sorted_tuple"
   ]
  },
  {
   "cell_type": "markdown",
   "metadata": {},
   "source": [
    "### More control over sorting ###\n",
    "If you sort a list of numbers (ints or floats), it's obvious that they should be sorted by value. Similarly, if we sort a list of strings, they are sorted alphabetically. Let's suppose we have something more complicated, for example a list of tuples:"
   ]
  },
  {
   "cell_type": "code",
   "execution_count": 18,
   "metadata": {},
   "outputs": [],
   "source": [
    "films = [\n",
    "    # title, year, box office\n",
    "    (\"A View to a Kill\", 1985, 275.2),\n",
    "    (\"Licence to Kill\", 1989, 250.9),\n",
    "    (\"Goldfinger\", 1964, 820.4),\n",
    "    (\"Dr No\", 1962, 448.8),\n",
    "    (\"Thunderball\", 1965, 848.1),\n",
    "    (\"You Only Live Twice\", 1967, 514.2),\n",
    "    (\"From Russia with Love\", 1963, 543.8)\n",
    "]"
   ]
  },
  {
   "cell_type": "markdown",
   "metadata": {},
   "source": [
    "What happens if we sort this list?"
   ]
  },
  {
   "cell_type": "code",
   "execution_count": 19,
   "metadata": {},
   "outputs": [
    {
     "data": {
      "text/plain": [
       "[('A View to a Kill', 1985, 275.2),\n",
       " ('Dr No', 1962, 448.8),\n",
       " ('From Russia with Love', 1963, 543.8),\n",
       " ('Goldfinger', 1964, 820.4),\n",
       " ('Licence to Kill', 1989, 250.9),\n",
       " ('Thunderball', 1965, 848.1),\n",
       " ('You Only Live Twice', 1967, 514.2)]"
      ]
     },
     "execution_count": 19,
     "metadata": {},
     "output_type": "execute_result"
    }
   ],
   "source": [
    "films.sort()\n",
    "films"
   ]
  },
  {
   "cell_type": "markdown",
   "metadata": {},
   "source": [
    "By default the list is sorted by the first element in each tuple, i.e. alphabetically by film name. What if we want to sort by year, using the second element in each item? The `sort` method takes an optional argument `key` to specify what to sort on:"
   ]
  },
  {
   "cell_type": "code",
   "execution_count": 20,
   "metadata": {},
   "outputs": [
    {
     "data": {
      "text/plain": [
       "[('Dr No', 1962, 448.8),\n",
       " ('From Russia with Love', 1963, 543.8),\n",
       " ('Goldfinger', 1964, 820.4),\n",
       " ('Thunderball', 1965, 848.1),\n",
       " ('You Only Live Twice', 1967, 514.2),\n",
       " ('A View to a Kill', 1985, 275.2),\n",
       " ('Licence to Kill', 1989, 250.9)]"
      ]
     },
     "execution_count": 20,
     "metadata": {},
     "output_type": "execute_result"
    }
   ],
   "source": [
    "films.sort(key = lambda film : film[1])\n",
    "films"
   ]
  },
  {
   "cell_type": "markdown",
   "metadata": {},
   "source": [
    "Don't worry too much about how this works - the bit of code after the `key=` part is a bit advanced, but by copying this pattern you can see how to sort items by things other than the first element, and this is something you will often encounter. Let's sort by box office:"
   ]
  },
  {
   "cell_type": "code",
   "execution_count": 21,
   "metadata": {},
   "outputs": [
    {
     "data": {
      "text/plain": [
       "[('Licence to Kill', 1989, 250.9),\n",
       " ('A View to a Kill', 1985, 275.2),\n",
       " ('Dr No', 1962, 448.8),\n",
       " ('You Only Live Twice', 1967, 514.2),\n",
       " ('From Russia with Love', 1963, 543.8),\n",
       " ('Goldfinger', 1964, 820.4),\n",
       " ('Thunderball', 1965, 848.1)]"
      ]
     },
     "execution_count": 21,
     "metadata": {},
     "output_type": "execute_result"
    }
   ],
   "source": [
    "films.sort(key = lambda film : film[2])\n",
    "films"
   ]
  },
  {
   "cell_type": "markdown",
   "metadata": {},
   "source": [
    "### <span class=\"girk\">Ex 4.3</span> ###\n",
    "Here is our list of records of name and year of birth from part 3:"
   ]
  },
  {
   "cell_type": "code",
   "execution_count": 22,
   "metadata": {},
   "outputs": [],
   "source": [
    "records = [\n",
    "    [ \"Maryam d'Abo\" , 1960 ] ,\n",
    "    [ \"Claudine Auger\" , 1941 ],\n",
    "    [ \"Barbara Bach\" , 1947 ],\n",
    "    [ \"Daniela Bianchi\" , 1942 ],\n",
    "    [ \"Carole Boquet\" , 1957 ],\n",
    "    [ \"Lois Chiles\" , 1947 ],\n",
    "    [ \"Britt Ekland\" , 1942 ],\n",
    "    [ \"Carey Lowell\" , 1961 ],\n",
    "    [ \"Tanya Roberts\" , 1955 ],\n",
    "    [ \"Jill St. John\" , 1940 ],\n",
    "]"
   ]
  },
  {
   "cell_type": "markdown",
   "metadata": {
    "solution2": "hidden",
    "solution2_first": true
   },
   "source": [
    "Practise sorting this list:\n",
    "- alphabetically by name\n",
    "- chronologically\n",
    "- reverse chronologically"
   ]
  },
  {
   "cell_type": "code",
   "execution_count": 23,
   "metadata": {
    "solution2": "hidden"
   },
   "outputs": [
    {
     "name": "stdout",
     "output_type": "stream",
     "text": [
      "[['Barbara Bach', 1947], ['Britt Ekland', 1942], ['Carey Lowell', 1961], ['Carole Boquet', 1957], ['Claudine Auger', 1941], ['Daniela Bianchi', 1942], ['Jill St. John', 1940], ['Lois Chiles', 1947], [\"Maryam d'Abo\", 1960], ['Tanya Roberts', 1955]]\n",
      "[['Jill St. John', 1940], ['Claudine Auger', 1941], ['Britt Ekland', 1942], ['Daniela Bianchi', 1942], ['Barbara Bach', 1947], ['Lois Chiles', 1947], ['Tanya Roberts', 1955], ['Carole Boquet', 1957], [\"Maryam d'Abo\", 1960], ['Carey Lowell', 1961]]\n",
      "[['Carey Lowell', 1961], [\"Maryam d'Abo\", 1960], ['Carole Boquet', 1957], ['Tanya Roberts', 1955], ['Lois Chiles', 1947], ['Barbara Bach', 1947], ['Daniela Bianchi', 1942], ['Britt Ekland', 1942], ['Claudine Auger', 1941], ['Jill St. John', 1940]]\n"
     ]
    }
   ],
   "source": [
    "records.sort()\n",
    "print(records)\n",
    "records.sort(key = lambda x : x[1])\n",
    "print(records)\n",
    "records = records[::-1]\n",
    "print(records)"
   ]
  },
  {
   "cell_type": "markdown",
   "metadata": {},
   "source": [
    "## Formatting strings ##\n",
    "Suppose you want to take a float variable `weight`, and create a string to display it of the form:\n",
    "\n",
    "weight: 70kg\n",
    "\n",
    "We can do this in two stages:\n",
    "   - use the `str` function to turn each of the variables into strings;\n",
    "   - joinging separate strings into a sinle string using `+`"
   ]
  },
  {
   "cell_type": "code",
   "execution_count": 24,
   "metadata": {},
   "outputs": [
    {
     "name": "stdout",
     "output_type": "stream",
     "text": [
      "weight: 70Kg\n"
     ]
    }
   ],
   "source": [
    "weight = 70\n",
    "string = \"weight: \" + str(weight) + \"Kg\"\n",
    "print(string)"
   ]
  },
  {
   "cell_type": "markdown",
   "metadata": {},
   "source": [
    "However this is a bit unwieldy. Better is to use the format operator, `f`. This is very easy to use:\n",
    "- enter `f` in front of your ordinary string\n",
    "- if you want the values of any variables to appear in your string, put the variable name inside `{}`.\n",
    "\n",
    "Here is our example using the `f()` operator:"
   ]
  },
  {
   "cell_type": "code",
   "execution_count": 25,
   "metadata": {},
   "outputs": [
    {
     "name": "stdout",
     "output_type": "stream",
     "text": [
      "weight: 70kg\n"
     ]
    }
   ],
   "source": [
    "string = f\"weight: {weight}kg\"\n",
    "print(string)"
   ]
  },
  {
   "cell_type": "markdown",
   "metadata": {},
   "source": [
    "This makes it very easy to format more complex strings without using lots of `+` signs and having to think about adding spaces:"
   ]
  },
  {
   "cell_type": "code",
   "execution_count": 26,
   "metadata": {},
   "outputs": [
    {
     "name": "stdout",
     "output_type": "stream",
     "text": [
      "weight: 77.9kg, height: 1.61m, BMI = 30.052852899193702\n",
      "weight: 84.5kg, height: 1.84m, BMI = 24.958648393194707\n",
      "weight: 56.4kg, height: 1.7m, BMI = 19.515570934256058\n",
      "weight: 90.2kg, height: 1.56m, BMI = 37.06443129520052\n",
      "weight: 88.4kg, height: 1.86m, BMI = 25.5520869464678\n"
     ]
    }
   ],
   "source": [
    "for weight, height in zip(weights, heights):\n",
    "    string = f\"weight: {weight}kg, height: {height}m, BMI = {weight / height ** 2}\"\n",
    "    print(string)"
   ]
  },
  {
   "cell_type": "markdown",
   "metadata": {},
   "source": [
    "There are also lots of options available for formatting variables more precisely."
   ]
  },
  {
   "cell_type": "markdown",
   "metadata": {},
   "source": [
    "## IO with files ##\n",
    "Input and output (IO) of data to and from your program can be achieved in many ways, but a common method is using a *file*. File IO is very easy in Python.\n",
    "### Basics ###\n",
    "Open a new file using `open`"
   ]
  },
  {
   "cell_type": "code",
   "execution_count": 27,
   "metadata": {},
   "outputs": [],
   "source": [
    "f = open(\"file1.txt\", \"w+\")"
   ]
  },
  {
   "cell_type": "markdown",
   "metadata": {},
   "source": [
    "There are two things to notice here:\n",
    "- we used an extra argument `\"w+\"`, this tells `open` to open a file for both writing and reading. It ensures any existing file is overwritten. If the file does not exist, a new file is created.\n",
    "- `open` returns a special object which represents the open file.\n",
    "\n",
    "Close the file using `close`"
   ]
  },
  {
   "cell_type": "code",
   "execution_count": 28,
   "metadata": {},
   "outputs": [],
   "source": [
    "f.close()"
   ]
  },
  {
   "cell_type": "markdown",
   "metadata": {},
   "source": [
    "Open the file again in the same way (it will be overwritten) and use `write` to write a string to the file."
   ]
  },
  {
   "cell_type": "code",
   "execution_count": 29,
   "metadata": {},
   "outputs": [],
   "source": [
    "f = open(\"file1.txt\", \"w+\")\n",
    "f.write(\"testing, testing, 1, 2, 3.\\n\")\n",
    "f.close()"
   ]
  },
  {
   "cell_type": "markdown",
   "metadata": {},
   "source": [
    "Now open the file again, but this time for reading and writing ***without overwriting it***: we do this using the `\"r+\"` option:"
   ]
  },
  {
   "cell_type": "code",
   "execution_count": 30,
   "metadata": {},
   "outputs": [],
   "source": [
    "f = open(\"file1.txt\", \"r+\")"
   ]
  },
  {
   "cell_type": "markdown",
   "metadata": {},
   "source": [
    "Finally, read the file and see what we get:"
   ]
  },
  {
   "cell_type": "code",
   "execution_count": 31,
   "metadata": {},
   "outputs": [
    {
     "name": "stdout",
     "output_type": "stream",
     "text": [
      "testing, testing, 1, 2, 3.\n",
      "\n"
     ]
    }
   ],
   "source": [
    "string = f.read()\n",
    "print(string)\n",
    "f.close()"
   ]
  },
  {
   "cell_type": "markdown",
   "metadata": {},
   "source": [
    "### Remembering to close ###\n",
    "Whenever you have finished with a file you need to remember to close it. To avoid this pitfall, you can use the **with open as** syntax:"
   ]
  },
  {
   "cell_type": "code",
   "execution_count": 32,
   "metadata": {},
   "outputs": [
    {
     "name": "stdout",
     "output_type": "stream",
     "text": [
      "testing, testing, 1, 2, 3.\n",
      "\n"
     ]
    }
   ],
   "source": [
    "with open(\"file1.txt\", \"r+\") as f:\n",
    "    string = f.read()\n",
    "    \n",
    "print(string)"
   ]
  },
  {
   "cell_type": "markdown",
   "metadata": {},
   "source": [
    "Now, all our dealing with the file object are ***in the indented block***. As soon as the end of the indented code is reached, the file is closed automatically. \n",
    "\n",
    "We can check this using the attribute `closed`, in the following code which reads our file, and writes another string to it in addition."
   ]
  },
  {
   "cell_type": "code",
   "execution_count": 33,
   "metadata": {},
   "outputs": [
    {
     "name": "stdout",
     "output_type": "stream",
     "text": [
      "True\n",
      "False\n",
      "False\n",
      "True\n"
     ]
    }
   ],
   "source": [
    "print(f.closed) # True: file starts closed\n",
    "\n",
    "with open(\"file1.txt\", \"r+\") as f:\n",
    "    \n",
    "    print(f.closed) # False: file now open\n",
    "    \n",
    "    string = f.read()\n",
    "    f.write(\"testing, testing, 4, 5, 6\\n\")\n",
    "    \n",
    "    print(f.closed) # False: file still open\n",
    "    \n",
    "print(f.closed) # True: file has closed automatically"
   ]
  },
  {
   "cell_type": "markdown",
   "metadata": {
    "solution2": "hidden",
    "solution2_first": true
   },
   "source": [
    "### <span class=\"girk\">Ex 4.4</span> ###\n",
    "- Open a file `test.txt` for writing (use `w+`);\n",
    "- write some lines to the file;\n",
    "- close the file;\n",
    "- open the file for reading (use `r+`);\n",
    "- read the file into a variable `text`;\n",
    "- close the file.\n",
    "- print the contents of `text`"
   ]
  },
  {
   "cell_type": "code",
   "execution_count": 34,
   "metadata": {
    "solution2": "hidden"
   },
   "outputs": [
    {
     "name": "stdout",
     "output_type": "stream",
     "text": [
      "I'll buy you a delicatessen...in stainless steel.\n"
     ]
    }
   ],
   "source": [
    "f = open(\"test.txt\", \"w+\")\n",
    "f.write(\"I'll buy you a delicatessen...\")\n",
    "f.write(\"in stainless steel.\")\n",
    "f.close()\n",
    "f = open(\"test.txt\", \"r+\")\n",
    "text = f.read()\n",
    "print(text)\n",
    "f.close()"
   ]
  },
  {
   "cell_type": "markdown",
   "metadata": {},
   "source": [
    "## Reading a line at a time ##\n",
    "The `read` function reads the whole file into a string. You often need to read a line at a time, which is easy using `in`:"
   ]
  },
  {
   "cell_type": "code",
   "execution_count": 35,
   "metadata": {},
   "outputs": [
    {
     "name": "stdout",
     "output_type": "stream",
     "text": [
      "testing, testing, 1, 2, 3.\n",
      "\n",
      "testing, testing, 4, 5, 6\n",
      "\n"
     ]
    }
   ],
   "source": [
    "with open(\"file1.txt\", \"r+\") as f:\n",
    "    for line in f:\n",
    "        print(line)"
   ]
  },
  {
   "cell_type": "markdown",
   "metadata": {
    "solution2": "shown",
    "solution2_first": true
   },
   "source": [
    "### <span class=\"girk\">Ex 4.5</span> ###\n",
    "The files `films.txt` and `directors.txt` contains a list of films and their directors. Use the data in these files to produce a list of tuples of the form (film, director), by doing the following:\n",
    "- for each file, open it and read a line at a time\n",
    "- create two empty lists for films and directors\n",
    "- for each file, read each line and append to one of your lists\n",
    "- loop over both lists together using `zip()` adding individual tuples to a list;\n",
    "- can you create your list in a single statement using the `zip` and `list` functions together?"
   ]
  },
  {
   "cell_type": "code",
   "execution_count": 36,
   "metadata": {
    "solution2": "shown"
   },
   "outputs": [
    {
     "name": "stdout",
     "output_type": "stream",
     "text": [
      "[('Dr. No\\n', 'Terence Young\\n'), ('From Russia with Love\\n', 'Terence Young\\n'), ('Goldfinger\\n', 'Guy Hamilton\\n'), ('Thunderball\\n', 'Terence Young\\n'), ('You Only Live Twice\\n', 'Lewis Gilbert\\n')]\n",
      "[('Dr. No\\n', 'Terence Young\\n'), ('From Russia with Love\\n', 'Terence Young\\n'), ('Goldfinger\\n', 'Guy Hamilton\\n'), ('Thunderball\\n', 'Terence Young\\n'), ('You Only Live Twice\\n', 'Lewis Gilbert\\n')]\n"
     ]
    }
   ],
   "source": [
    "# empty lists\n",
    "films, directors = [], []\n",
    "\n",
    "#read films from file to list\n",
    "with open(\"films.txt\", \"r+\") as f:\n",
    "    for film in f:\n",
    "        films.append(film)\n",
    "        \n",
    "# read directors from file to list\n",
    "with open(\"directors.txt\", \"r+\") as f:\n",
    "    for director in f:\n",
    "        directors.append(director)\n",
    "        \n",
    "# create empty list and populate\n",
    "bond = []\n",
    "for film, director in zip(films, directors):\n",
    "    bond.append((film, director))\n",
    "\n",
    "# do the same in a single statement\n",
    "bond2 = list(zip(films, directors))\n",
    "\n",
    "# print the first few items of each list to compar\n",
    "print(bond[0:5])\n",
    "print(bond2[0:5])"
   ]
  },
  {
   "cell_type": "markdown",
   "metadata": {},
   "source": [
    "## Object-oriented programming ##\n",
    "### Why are objects useful? ###\n",
    "Python is an *object-oriented (OO) language* because it allows objects. We've seen that Python provides several types of objects so far:\n",
    "- list\n",
    "- dict\n",
    "- set\n",
    "- file\n",
    "\n",
    "There are many more. Recall that an object can have:\n",
    "- methods (built-in functions): e.g. `list.append(x)`, `set.clear()`, `file.close()`\n",
    "- member variables (data that belongs to them): `file.closed` (either `True` or `False`)\n",
    "\n",
    "Objects are useful for more than one reason:\n",
    "- they keep the data that is being stored together with the functions that are useful for working with it. For example, a list object looks after its own data (the members of the list) and gives us all the fuctions we need for manipulating the list (we just do `list.function_name`);\n",
    "- they prevent the user having to worry too much about the internal structure of the data: we don't need to know how a list or a dictionary is actually arranged in memory: we just use the convenient methods for dealing with it."
   ]
  },
  {
   "cell_type": "markdown",
   "metadata": {},
   "source": [
    "### Terminology ###\n",
    "There are two more important terms:\n",
    "- The type of an object is more properly called its **class**; so *list*, *dict*, *set*, *file* are all **classes**.\n",
    "- When we actually create an object of a particular class (e.g. of the list class by entering `list = [1, 2, 3]`) we create an **instance** of the class.\n",
    "\n",
    "You might write a program that creates several *instances* of a class (e.g. more than one list), but there is *only ever one class of a particular name*."
   ]
  },
  {
   "cell_type": "markdown",
   "metadata": {},
   "source": [
    "### Creating your own class ###\n",
    "The power of OO languages comes from ***defining your own classes***. Here's a very simple class that defines one method and one member variable:"
   ]
  },
  {
   "cell_type": "code",
   "execution_count": 37,
   "metadata": {},
   "outputs": [],
   "source": [
    "class simpleclass:\n",
    "    \n",
    "    def do_something(self):\n",
    "        self._greeting = \"hello\"\n",
    "        print(self._greeting)"
   ]
  },
  {
   "cell_type": "markdown",
   "metadata": {},
   "source": [
    "The class is defined using the keyword `class` followed by the name of the class; the rest of the class is indented.\n",
    "\n",
    "Creating an object is easy: let's create a simpleclass object and check it's type:"
   ]
  },
  {
   "cell_type": "code",
   "execution_count": 38,
   "metadata": {},
   "outputs": [
    {
     "data": {
      "text/plain": [
       "__main__.simpleclass"
      ]
     },
     "execution_count": 38,
     "metadata": {},
     "output_type": "execute_result"
    }
   ],
   "source": [
    "s = simpleclass()\n",
    "type(s)"
   ]
  },
  {
   "cell_type": "markdown",
   "metadata": {},
   "source": [
    "The class has been given one method, `do_something`. It takes a very special argument called `self`, which is a reference to the object itself. Python always supplies this argument: you don't have to enter it when using any method:"
   ]
  },
  {
   "cell_type": "code",
   "execution_count": 39,
   "metadata": {},
   "outputs": [
    {
     "name": "stdout",
     "output_type": "stream",
     "text": [
      "hello\n"
     ]
    }
   ],
   "source": [
    "s.do_something()"
   ]
  },
  {
   "cell_type": "markdown",
   "metadata": {},
   "source": [
    "The class has been given one member variable, `_greeting`, simply by assigning `self._greeting`. We can check the value of this variable:"
   ]
  },
  {
   "cell_type": "code",
   "execution_count": 40,
   "metadata": {},
   "outputs": [
    {
     "data": {
      "text/plain": [
       "'hello'"
      ]
     },
     "execution_count": 40,
     "metadata": {},
     "output_type": "execute_result"
    }
   ],
   "source": [
    "s._greeting"
   ]
  },
  {
   "cell_type": "markdown",
   "metadata": {},
   "source": [
    "### A more useful example ###\n",
    "Let's write a class to define objects that serve a very simple purpose. Suppose we want to store some patient data: name, height and weight and BMI. We will create a patient object that will do this. Each object:\n",
    "- will have `_name`, `_weight`(Kg) and `_height`(m) member variables;\n",
    "- a method called `bmi` which calculates the patient's BMI; (ensuring the BMI is correct even if height and weight change);\n",
    "- a way of making sure that when an object is created, the name, weight and height are all populated.\n",
    "\n",
    "Here's how the class for this simple object looks:"
   ]
  },
  {
   "cell_type": "code",
   "execution_count": 41,
   "metadata": {},
   "outputs": [],
   "source": [
    "class patient:\n",
    "    \n",
    "    def __init__(self, name, weight, height):\n",
    "        self._name = name\n",
    "        self._weight = weight\n",
    "        self._height = height\n",
    "        print(f\"created patient {name} with weight {weight}Kg and height {height}m.\")\n",
    "        \n",
    "    def bmi(self):\n",
    "        return self._weight / self._height ** 2"
   ]
  },
  {
   "cell_type": "markdown",
   "metadata": {},
   "source": [
    "The `__init__` method is a special one. It is called automatically whenever an object is created. It can take arguments which can be used to set initial values in the object. Let's see it work:"
   ]
  },
  {
   "cell_type": "code",
   "execution_count": 42,
   "metadata": {},
   "outputs": [
    {
     "name": "stdout",
     "output_type": "stream",
     "text": [
      "created patient Messervy with weight 88.4Kg and height 1.72m.\n"
     ]
    }
   ],
   "source": [
    "p = patient(name = \"Messervy\", height = 1.72, weight = 88.4)"
   ]
  },
  {
   "cell_type": "markdown",
   "metadata": {},
   "source": [
    "We see output from the `print` statement in the `__init__` method which proves it was called automatically. Now we can check Linus' details"
   ]
  },
  {
   "cell_type": "code",
   "execution_count": 43,
   "metadata": {},
   "outputs": [
    {
     "name": "stdout",
     "output_type": "stream",
     "text": [
      "Messervy 88.4\n"
     ]
    }
   ],
   "source": [
    "print(p._name, p._weight)"
   ]
  },
  {
   "cell_type": "markdown",
   "metadata": {},
   "source": [
    "and BMI"
   ]
  },
  {
   "cell_type": "code",
   "execution_count": 44,
   "metadata": {},
   "outputs": [
    {
     "data": {
      "text/plain": [
       "29.881016765819368"
      ]
     },
     "execution_count": 44,
     "metadata": {},
     "output_type": "execute_result"
    }
   ],
   "source": [
    "p.bmi()"
   ]
  },
  {
   "cell_type": "markdown",
   "metadata": {
    "solution2": "hidden",
    "solution2_first": true
   },
   "source": [
    "### <span class=\"girk\">Ex 4.6</span> ###\n",
    "- Create a `film` class that has three member variables: `_title`, `_year` and `_rating`, where rating is a percentage score. \n",
    "- Give your class an init method that takes a title, year and rating\n",
    "- Add a function `star_rating` that returns the films rating as a score out of 5. *Hint:* use the `round` function."
   ]
  },
  {
   "cell_type": "code",
   "execution_count": 45,
   "metadata": {
    "solution2": "hidden"
   },
   "outputs": [
    {
     "data": {
      "text/plain": [
       "5"
      ]
     },
     "execution_count": 45,
     "metadata": {},
     "output_type": "execute_result"
    }
   ],
   "source": [
    "class film:\n",
    "    \n",
    "    def __init__(self, title, year, rating):\n",
    "        self._title = title\n",
    "        self._year = year\n",
    "        self._rating = rating\n",
    "        \n",
    "    def star_rating(self):\n",
    "        return round(self._rating / 20)\n",
    "    \n",
    "my_film = film(\"skyfall\", 2012, 92)\n",
    "my_film.star_rating()"
   ]
  },
  {
   "cell_type": "markdown",
   "metadata": {},
   "source": [
    "### Editing objects on the fly ###\n",
    "The class definition does not set in stone what the object should do. Python allows us to tinker with objects once they have been created. We can add a variable to an object"
   ]
  },
  {
   "cell_type": "code",
   "execution_count": 46,
   "metadata": {},
   "outputs": [
    {
     "data": {
      "text/plain": [
       "'M'"
      ]
     },
     "execution_count": 46,
     "metadata": {},
     "output_type": "execute_result"
    }
   ],
   "source": [
    "p._nickname = \"M\"\n",
    "p._nickname"
   ]
  },
  {
   "cell_type": "markdown",
   "metadata": {},
   "source": [
    "or even get fancy and define a function and add it to the object:"
   ]
  },
  {
   "cell_type": "code",
   "execution_count": 47,
   "metadata": {},
   "outputs": [],
   "source": [
    "def what_is_this():\n",
    "    print(\"this is a patient record\")\n",
    "    \n",
    "p.method2 = what_is_this"
   ]
  },
  {
   "cell_type": "markdown",
   "metadata": {},
   "source": [
    "Let's call this function now:"
   ]
  },
  {
   "cell_type": "code",
   "execution_count": 48,
   "metadata": {},
   "outputs": [
    {
     "name": "stdout",
     "output_type": "stream",
     "text": [
      "this is a patient record\n"
     ]
    }
   ],
   "source": [
    "p.method2()"
   ]
  },
  {
   "cell_type": "markdown",
   "metadata": {},
   "source": [
    "It's not so simple to add \"proper\" methods that use `self`, but it can be done."
   ]
  },
  {
   "cell_type": "markdown",
   "metadata": {},
   "source": [
    "### Class variables ###\n",
    "The member variables such as `name` are unique to each object instance. Let's create another patient to show this."
   ]
  },
  {
   "cell_type": "code",
   "execution_count": 49,
   "metadata": {},
   "outputs": [
    {
     "name": "stdout",
     "output_type": "stream",
     "text": [
      "created patient Moneypenny with weight 60Kg and height 1.55m.\n"
     ]
    }
   ],
   "source": [
    "p2 = patient(\"Moneypenny\", 60, 1.55)"
   ]
  },
  {
   "cell_type": "markdown",
   "metadata": {},
   "source": [
    "Sometimes however, it's useful to have a variable that is ***shared*** among all objects of a class. Let's create a very simple class that does this."
   ]
  },
  {
   "cell_type": "code",
   "execution_count": 50,
   "metadata": {},
   "outputs": [],
   "source": [
    "class simple2:\n",
    "    i = 0"
   ]
  },
  {
   "cell_type": "markdown",
   "metadata": {},
   "source": [
    "That's it. The variable `i` is a **class variable***. It applies to the whole class and all objects that are defined by it. Access it from any object:"
   ]
  },
  {
   "cell_type": "code",
   "execution_count": 51,
   "metadata": {},
   "outputs": [
    {
     "data": {
      "text/plain": [
       "0"
      ]
     },
     "execution_count": 51,
     "metadata": {},
     "output_type": "execute_result"
    }
   ],
   "source": [
    "bib = simple2\n",
    "bib.i"
   ]
  },
  {
   "cell_type": "markdown",
   "metadata": {},
   "source": [
    "Or even from the class itself:"
   ]
  },
  {
   "cell_type": "code",
   "execution_count": 52,
   "metadata": {},
   "outputs": [
    {
     "data": {
      "text/plain": [
       "0"
      ]
     },
     "execution_count": 52,
     "metadata": {},
     "output_type": "execute_result"
    }
   ],
   "source": [
    "bib.i"
   ]
  },
  {
   "cell_type": "markdown",
   "metadata": {},
   "source": [
    "Because it is shared, any changes that are made will be seen from other objects. Let's create another object:"
   ]
  },
  {
   "cell_type": "code",
   "execution_count": 53,
   "metadata": {},
   "outputs": [],
   "source": [
    "bob = simple2"
   ]
  },
  {
   "cell_type": "markdown",
   "metadata": {},
   "source": [
    "and change the value of `i`:"
   ]
  },
  {
   "cell_type": "code",
   "execution_count": 54,
   "metadata": {},
   "outputs": [
    {
     "name": "stdout",
     "output_type": "stream",
     "text": [
      "1 1 1\n"
     ]
    }
   ],
   "source": [
    "bob.i = 1\n",
    "print(bib.i, bob.i, simple2.i)"
   ]
  },
  {
   "cell_type": "markdown",
   "metadata": {},
   "source": [
    "The change is seen everywhere. Suppose we want to assign a sequential number to each of the patient records we created earlier. We can do this with a class variable:\n",
    "- have a class variable keep a count of the number of patient objects that are created; this number will be shared across the class\n",
    "- increment the counter each time an object is created, by using the init function\n",
    "- use the counter to set a member variable - the item number - for the individual object\n",
    "\n",
    "Here is how our new class might look"
   ]
  },
  {
   "cell_type": "code",
   "execution_count": 55,
   "metadata": {},
   "outputs": [],
   "source": [
    "class patient:\n",
    "    \n",
    "    count = 0\n",
    "    \n",
    "    def __init__(self, name, weight, height):\n",
    "        self._name = name\n",
    "        self._weight = weight\n",
    "        self._height = height\n",
    "        \n",
    "        self._record_number = patient.count # get the record number from the count\n",
    "        patient.count += 1                  # increment the count since we have created an object\n",
    "        \n",
    "        print(f\"created patient {name} with weight {weight}Kg and height {height}m.\")\n",
    "        \n",
    "        print(f\"record number = {self._record_number}\") # print the record number\n",
    "        \n",
    "    def bmi(self):\n",
    "        return self._weight / self._height ** 2"
   ]
  },
  {
   "cell_type": "markdown",
   "metadata": {},
   "source": [
    "Let's see this in action:"
   ]
  },
  {
   "cell_type": "code",
   "execution_count": 56,
   "metadata": {
    "scrolled": true
   },
   "outputs": [
    {
     "name": "stdout",
     "output_type": "stream",
     "text": [
      "created patient Messervy with weight 88.4Kg and height 1.72m.\n",
      "record number = 0\n",
      "created patient Boothroyd with weight 70.2Kg and height 1.83m.\n",
      "record number = 1\n",
      "created patient Tanner with weight 76.1Kg and height 1.74m.\n",
      "record number = 2\n"
     ]
    }
   ],
   "source": [
    "gloria = patient(name = \"Messervy\", height = 1.72, weight = 88.4)\n",
    "dolores = patient(name = \"Boothroyd\", height = 1.83, weight = 70.2)\n",
    "jim = patient(name = \"Tanner\", height = 1.74, weight = 76.1)\n"
   ]
  },
  {
   "cell_type": "markdown",
   "metadata": {
    "solution2": "hidden",
    "solution2_first": true
   },
   "source": [
    "### <span class=\"girk\">Ex 4.7</span> ###\n",
    "A simple random number generator can be defined using the recurrence relation\n",
    "\n",
    "$x_{n + 1} = 1103515245\\times(x_n + 12345) \\text{mod}\\space 2 ^ {31}.$\n",
    "\n",
    "We start with a value $x_1$ and generate the next in the sequence $x_2$, then use this to generate $x_3$, and so on. \n",
    "\n",
    "Write and test a class `random` that has a function `generate` that returns the next value in the sequence each time. To do this:\n",
    "\n",
    "- use a class variable `x` with a starting value of 1, which will store the newly calculated value of $x$ each time;\n",
    "- add a class function `generate` to generate the new value and store it in `x`.\n",
    "- create a `random` object and call the `generate` function several times and see what values you get.\n"
   ]
  },
  {
   "cell_type": "code",
   "execution_count": 57,
   "metadata": {
    "solution2": "hidden"
   },
   "outputs": [
    {
     "name": "stdout",
     "output_type": "stream",
     "text": [
      "362951858\n",
      "1772524047\n",
      "1457694888\n",
      "2075190733\n",
      "767571086\n"
     ]
    }
   ],
   "source": [
    "class random:\n",
    "    \n",
    "    x = 1\n",
    "    \n",
    "    def __init__(self):\n",
    "        pass\n",
    "        \n",
    "    def generate(self):\n",
    "        self.x = 1103515245 * (self.x + 12345) % 2 ** 31\n",
    "        return self.x\n",
    "    \n",
    "r = random()\n",
    "\n",
    "print(r.generate())\n",
    "print(r.generate())\n",
    "print(r.generate())\n",
    "print(r.generate())\n",
    "print(r.generate())"
   ]
  }
 ],
 "metadata": {
  "kernelspec": {
   "display_name": "Python 3",
   "language": "python",
   "name": "python3"
  },
  "language_info": {
   "codemirror_mode": {
    "name": "ipython",
    "version": 3
   },
   "file_extension": ".py",
   "mimetype": "text/x-python",
   "name": "python",
   "nbconvert_exporter": "python",
   "pygments_lexer": "ipython3",
   "version": "3.7.0"
  },
  "toc": {
   "base_numbering": 1,
   "nav_menu": {},
   "number_sections": false,
   "sideBar": true,
   "skip_h1_title": false,
   "title_cell": "Table of Contents",
   "title_sidebar": "Contents",
   "toc_cell": false,
   "toc_position": {},
   "toc_section_display": true,
   "toc_window_display": true
  }
 },
 "nbformat": 4,
 "nbformat_minor": 2
}
