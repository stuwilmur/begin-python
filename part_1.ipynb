{
 "cells": [
  {
   "cell_type": "markdown",
   "metadata": {},
   "source": [
    "# Learning Python #\n",
    "## Introduction ##\n",
    "This is a short introductory course in Python. It assumes that you have never programmed a line of code in your life (but will do you no harm if you have). The course provides a fairly rapid overview of the Python programming language, with the intention of getting you writing useful code quickly. It does this in part by sacrificing the depth in which some of the topics are explored for a broad overview of the most useful features; if you go on to use Python there are numerous other resources that can provide you with more detailed knowledge and information about features not discussed here.\n",
    "\n",
    "## How this course works ##\n",
    "The course is written as a series of ***Jupyter notebooks***. A notebook combines ordinary text and images with snippets of code that you can actually run; it's a sort of programing book brought to life, and it avoids you having to copy the code in the book to your computer to use it.\n",
    "\n",
    "Code that you can run looks like this:"
   ]
  },
  {
   "cell_type": "code",
   "execution_count": 1,
   "metadata": {},
   "outputs": [
    {
     "name": "stdout",
     "output_type": "stream",
     "text": [
      "This notebook is running Python version 3.7.0 (default, Jun 28 2018, 08:04:48) [MSC v.1912 64 bit (AMD64)]\n"
     ]
    }
   ],
   "source": [
    "import sys\n",
    "dir(sys)\n",
    "print(f\"This notebook is running Python version {sys.version}\")"
   ]
  },
  {
   "cell_type": "markdown",
   "metadata": {},
   "source": [
    "Run this code by clicking to the left of it so that the cell/block is highlighted with a blue line, and either:\n",
    "- click \"run this cell\" (the play button to the left)\n",
    "\n",
    "or\n",
    "- hit Ctrl-Enter.\n",
    "\n",
    "If your code produces any output (like this one does) it appears below. You should run all the code that has been provided for you. You can edit any code cell simply by clicking inside it. In this course you will learn from examples and then do short coding exercises: \n",
    "\n",
    "- important examples are highlighted in **<font color=\"blue\">blue</font>**\n",
    "- exercises are highlighted in **<span class=\"girk\">green</span>** and have a button to show a sample solution. "
   ]
  },
  {
   "cell_type": "markdown",
   "metadata": {
    "slideshow": {
     "slide_type": "slide"
    }
   },
   "source": [
    "# Python part 1#\n",
    "## Hello, world! ##\n",
    "Our first program will display the text \"Hello, world!\"; it is traditional when learning a new programming language for this to be your first program."
   ]
  },
  {
   "cell_type": "markdown",
   "metadata": {},
   "source": [
    "### **<font color=\"blue\">print</font>** ###"
   ]
  },
  {
   "cell_type": "code",
   "execution_count": 1,
   "metadata": {
    "slideshow": {
     "slide_type": "fragment"
    }
   },
   "outputs": [
    {
     "name": "stdout",
     "output_type": "stream",
     "text": [
      "Hello, world!\n"
     ]
    }
   ],
   "source": [
    "print(\"Hello, world!\")"
   ]
  },
  {
   "cell_type": "markdown",
   "metadata": {
    "slideshow": {
     "slide_type": "subslide"
    }
   },
   "source": [
    "- `print` has nothing to do with printers; think of it as \"print to the screen\".\n",
    "- `print` is a ***function*** that is built in to Python: we feed it some **input** (text in this case) and it **does something** with it.\n",
    "- The bit in brackets is called the ***argument*** - i.e. the bit we feed to the function.\n",
    "- `print` can take more than one argument:"
   ]
  },
  {
   "cell_type": "code",
   "execution_count": 2,
   "metadata": {
    "slideshow": {
     "slide_type": "fragment"
    }
   },
   "outputs": [
    {
     "name": "stdout",
     "output_type": "stream",
     "text": [
      "Three,  blind,  mice.\n"
     ]
    }
   ],
   "source": [
    "print(\"Three, \", \"blind, \", \"mice.\")"
   ]
  },
  {
   "cell_type": "markdown",
   "metadata": {
    "slideshow": {
     "slide_type": "subslide"
    }
   },
   "source": [
    "Another really handy function to learn straight away is `help`, which gives you help with other functions:"
   ]
  },
  {
   "cell_type": "code",
   "execution_count": 3,
   "metadata": {
    "slideshow": {
     "slide_type": "fragment"
    }
   },
   "outputs": [
    {
     "name": "stdout",
     "output_type": "stream",
     "text": [
      "Help on built-in function print in module builtins:\n",
      "\n",
      "print(...)\n",
      "    print(value, ..., sep=' ', end='\\n', file=sys.stdout, flush=False)\n",
      "    \n",
      "    Prints the values to a stream, or to sys.stdout by default.\n",
      "    Optional keyword arguments:\n",
      "    file:  a file-like object (stream); defaults to the current sys.stdout.\n",
      "    sep:   string inserted between values, default a space.\n",
      "    end:   string appended after the last value, default a newline.\n",
      "    flush: whether to forcibly flush the stream.\n",
      "\n"
     ]
    }
   ],
   "source": [
    "help(print)"
   ]
  },
  {
   "cell_type": "markdown",
   "metadata": {
    "slideshow": {
     "slide_type": "subslide"
    }
   },
   "source": [
    "## Using Python to calculate ##\n",
    "### **<font color=\"blue\">Basic arithmetic</font>** ###"
   ]
  },
  {
   "cell_type": "code",
   "execution_count": 4,
   "metadata": {
    "slideshow": {
     "slide_type": "fragment"
    }
   },
   "outputs": [
    {
     "data": {
      "text/plain": [
       "4"
      ]
     },
     "execution_count": 4,
     "metadata": {},
     "output_type": "execute_result"
    }
   ],
   "source": [
    "2 + 2"
   ]
  },
  {
   "cell_type": "markdown",
   "metadata": {},
   "source": [
    "Here are some more examples using arithmetic: multiply using `*`"
   ]
  },
  {
   "cell_type": "code",
   "execution_count": 5,
   "metadata": {
    "slideshow": {
     "slide_type": "fragment"
    }
   },
   "outputs": [
    {
     "data": {
      "text/plain": [
       "38"
      ]
     },
     "execution_count": 5,
     "metadata": {},
     "output_type": "execute_result"
    }
   ],
   "source": [
    "50 - 3 * 4"
   ]
  },
  {
   "cell_type": "markdown",
   "metadata": {},
   "source": [
    "Brackets can be used:"
   ]
  },
  {
   "cell_type": "code",
   "execution_count": 1,
   "metadata": {},
   "outputs": [
    {
     "data": {
      "text/plain": [
       "188"
      ]
     },
     "execution_count": 1,
     "metadata": {},
     "output_type": "execute_result"
    }
   ],
   "source": [
    "(50 - 3) * 4"
   ]
  },
  {
   "cell_type": "markdown",
   "metadata": {},
   "source": [
    "Divide with a slash, `/`:"
   ]
  },
  {
   "cell_type": "code",
   "execution_count": 6,
   "metadata": {
    "slideshow": {
     "slide_type": "fragment"
    }
   },
   "outputs": [
    {
     "data": {
      "text/plain": [
       "1.6"
      ]
     },
     "execution_count": 6,
     "metadata": {},
     "output_type": "execute_result"
    }
   ],
   "source": [
    "8 / 5 # division returns a floating-point number"
   ]
  },
  {
   "cell_type": "markdown",
   "metadata": {
    "slideshow": {
     "slide_type": "fragment"
    }
   },
   "source": [
    "The text on the right in the last example is a **comment**: in Python anything following the # sign is a comment and will be ignored. This is helpful for annotating your code and can make it easier to read and understand."
   ]
  },
  {
   "cell_type": "markdown",
   "metadata": {
    "slideshow": {
     "slide_type": "subslide"
    }
   },
   "source": [
    "### **<font color=\"blue\">Whole number division</font>** ###\n",
    "We can do whole-number (integer) division using the `//` and `%` signs to get the divisor and remainder:"
   ]
  },
  {
   "cell_type": "code",
   "execution_count": 7,
   "metadata": {
    "slideshow": {
     "slide_type": "fragment"
    }
   },
   "outputs": [
    {
     "data": {
      "text/plain": [
       "2"
      ]
     },
     "execution_count": 7,
     "metadata": {},
     "output_type": "execute_result"
    }
   ],
   "source": [
    "7 // 3 # calculate the divisor"
   ]
  },
  {
   "cell_type": "code",
   "execution_count": 8,
   "metadata": {
    "slideshow": {
     "slide_type": "fragment"
    }
   },
   "outputs": [
    {
     "data": {
      "text/plain": [
       "1"
      ]
     },
     "execution_count": 8,
     "metadata": {},
     "output_type": "execute_result"
    }
   ],
   "source": [
    "7 % 3 # calculate the remainder"
   ]
  },
  {
   "cell_type": "markdown",
   "metadata": {
    "slideshow": {
     "slide_type": "fragment"
    }
   },
   "source": [
    "### **<font color=\"blue\">Powers</font>** ###\n",
    "Calculate powers using `**`"
   ]
  },
  {
   "cell_type": "code",
   "execution_count": 9,
   "metadata": {
    "slideshow": {
     "slide_type": "fragment"
    }
   },
   "outputs": [
    {
     "data": {
      "text/plain": [
       "64"
      ]
     },
     "execution_count": 9,
     "metadata": {},
     "output_type": "execute_result"
    }
   ],
   "source": [
    "2 ** 6"
   ]
  },
  {
   "cell_type": "code",
   "execution_count": 8,
   "metadata": {
    "slideshow": {
     "slide_type": "fragment"
    }
   },
   "outputs": [
    {
     "data": {
      "text/plain": [
       "10000000000"
      ]
     },
     "execution_count": 8,
     "metadata": {},
     "output_type": "execute_result"
    }
   ],
   "source": [
    "10 ** 10"
   ]
  },
  {
   "cell_type": "markdown",
   "metadata": {
    "solution2": "hidden",
    "solution2_first": true
   },
   "source": [
    "### <span class=\"girk\">Ex 1.1</span> ###\n",
    "Calculate $\\frac{7 ^4 - 5000}{11}$."
   ]
  },
  {
   "cell_type": "code",
   "execution_count": 3,
   "metadata": {
    "solution2": "hidden"
   },
   "outputs": [
    {
     "data": {
      "text/plain": [
       "-454.27272727272725"
      ]
     },
     "execution_count": 3,
     "metadata": {},
     "output_type": "execute_result"
    }
   ],
   "source": [
    "( 7 ^4 - 5000 ) / 11"
   ]
  },
  {
   "cell_type": "markdown",
   "metadata": {
    "slideshow": {
     "slide_type": "subslide"
    }
   },
   "source": [
    "## Variables ##\n",
    "- Every time we press run or hit Ctrl-Enter on a cell that we have entered, the notebook *evaluates* the cell and automatically prints the result.\n",
    "- If we need to keep the result for later, e.g. for another calculation, we can use a ***variable***\n",
    "- ***Assign*** a value to a variable using the `=` sign:"
   ]
  },
  {
   "cell_type": "code",
   "execution_count": 11,
   "metadata": {
    "slideshow": {
     "slide_type": "fragment"
    }
   },
   "outputs": [
    {
     "data": {
      "text/plain": [
       "4"
      ]
     },
     "execution_count": 11,
     "metadata": {},
     "output_type": "execute_result"
    }
   ],
   "source": [
    "radius = 2\n",
    "radius * 2"
   ]
  },
  {
   "cell_type": "markdown",
   "metadata": {
    "slideshow": {
     "slide_type": "fragment"
    }
   },
   "source": [
    "You can do lots of things with variables:"
   ]
  },
  {
   "cell_type": "code",
   "execution_count": 12,
   "metadata": {
    "slideshow": {
     "slide_type": "subslide"
    }
   },
   "outputs": [
    {
     "name": "stdout",
     "output_type": "stream",
     "text": [
      "28.273500000000002\n"
     ]
    }
   ],
   "source": [
    "old_radius = radius # assign a variable to another variable\n",
    "\n",
    "radius = 3 # reassign a variable, i.e. change its value\n",
    "\n",
    "area = 3.1415 * radius ** 2 # use a variable in a calculation\n",
    "\n",
    "print(area) # print a variable\n"
   ]
  },
  {
   "cell_type": "markdown",
   "metadata": {
    "solution2": "hidden",
    "solution2_first": true
   },
   "source": [
    "### <span class=\"girk\">Ex 1.2</span> ###\n",
    "Assign $x = 1.1, y = 2.2$ and calculate\n",
    "\n",
    "$z = 2x^3 - 3y^2$"
   ]
  },
  {
   "cell_type": "code",
   "execution_count": 1,
   "metadata": {
    "solution2": "hidden"
   },
   "outputs": [],
   "source": [
    "x = 1.1\n",
    "y = 2.2\n",
    "z = 2 * x ** 3 - 3 * y ** 2"
   ]
  },
  {
   "cell_type": "markdown",
   "metadata": {
    "slideshow": {
     "slide_type": "subslide"
    }
   },
   "source": [
    "## Types of numbers ##\n",
    "There are two main types of numbers in Python: `int` (integers or whole numbers) and `float` (floating-point numbers that are not whole numbers). We have come across both. We can get Python to tell us about the *type* of a number:"
   ]
  },
  {
   "cell_type": "code",
   "execution_count": 13,
   "metadata": {
    "slideshow": {
     "slide_type": "fragment"
    }
   },
   "outputs": [
    {
     "data": {
      "text/plain": [
       "int"
      ]
     },
     "execution_count": 13,
     "metadata": {},
     "output_type": "execute_result"
    }
   ],
   "source": [
    "type(2 + 2)"
   ]
  },
  {
   "cell_type": "code",
   "execution_count": 14,
   "metadata": {
    "slideshow": {
     "slide_type": "fragment"
    }
   },
   "outputs": [
    {
     "data": {
      "text/plain": [
       "float"
      ]
     },
     "execution_count": 14,
     "metadata": {},
     "output_type": "execute_result"
    }
   ],
   "source": [
    "type(1.2)"
   ]
  },
  {
   "cell_type": "code",
   "execution_count": 15,
   "metadata": {
    "slideshow": {
     "slide_type": "fragment"
    }
   },
   "outputs": [
    {
     "data": {
      "text/plain": [
       "float"
      ]
     },
     "execution_count": 15,
     "metadata": {},
     "output_type": "execute_result"
    }
   ],
   "source": [
    "type(8 / 5) # remember that Python automatically does floating-point division"
   ]
  },
  {
   "cell_type": "code",
   "execution_count": 16,
   "metadata": {
    "slideshow": {
     "slide_type": "fragment"
    }
   },
   "outputs": [
    {
     "data": {
      "text/plain": [
       "int"
      ]
     },
     "execution_count": 16,
     "metadata": {},
     "output_type": "execute_result"
    }
   ],
   "source": [
    "type(8 // 5)"
   ]
  },
  {
   "cell_type": "markdown",
   "metadata": {
    "slideshow": {
     "slide_type": "slide"
    }
   },
   "source": [
    "## Strings ##\n",
    "Besides numbers, Python can handle text, or what we call ***strings*** (the name describes a string of characters). Remember this example?"
   ]
  },
  {
   "cell_type": "code",
   "execution_count": 4,
   "metadata": {
    "slideshow": {
     "slide_type": "fragment"
    }
   },
   "outputs": [
    {
     "name": "stdout",
     "output_type": "stream",
     "text": [
      "Hello, Felix!\n"
     ]
    }
   ],
   "source": [
    "print(\"Hello, Felix!\") # the bit in quotes is a string"
   ]
  },
  {
   "cell_type": "markdown",
   "metadata": {},
   "source": [
    "Strings can be in single or double quotes. You can assign a string to a variable like this:"
   ]
  },
  {
   "cell_type": "code",
   "execution_count": 3,
   "metadata": {
    "slideshow": {
     "slide_type": "fragment"
    }
   },
   "outputs": [
    {
     "name": "stdout",
     "output_type": "stream",
     "text": [
      "Hello, Felix!\n"
     ]
    }
   ],
   "source": [
    "greeting = 'Hello, Felix!'\n",
    "print(greeting)"
   ]
  },
  {
   "cell_type": "markdown",
   "metadata": {
    "slideshow": {
     "slide_type": "subslide"
    }
   },
   "source": [
    "## **<font color=\"blue\">+ with strings</font>** ##\n",
    "Add two strings together using the `+` sign:"
   ]
  },
  {
   "cell_type": "code",
   "execution_count": 5,
   "metadata": {
    "slideshow": {
     "slide_type": "fragment"
    }
   },
   "outputs": [
    {
     "name": "stdout",
     "output_type": "stream",
     "text": [
      "shaken not stirred\n",
      "Vodka Martini, shaken not stirred\n"
     ]
    }
   ],
   "source": [
    "method = \"shaken\" + \" not \" + \"stirred\"\n",
    "print(method)\n",
    "cocktail = \"Vodka Martini, \"\n",
    "drink = cocktail + method\n",
    "print(drink)"
   ]
  },
  {
   "cell_type": "markdown",
   "metadata": {
    "slideshow": {
     "slide_type": "fragment"
    }
   },
   "source": [
    "In fact, you only need the plus sign if you are joining two string variables: if you are writing the string in quotes then putting two strings together is enough to join them:"
   ]
  },
  {
   "cell_type": "code",
   "execution_count": 6,
   "metadata": {
    "slideshow": {
     "slide_type": "fragment"
    }
   },
   "outputs": [
    {
     "name": "stdout",
     "output_type": "stream",
     "text": [
      "shaken not stirred\n"
     ]
    }
   ],
   "source": [
    "method = \"shaken\" \" not \" \"stirred\"\n",
    "print(method)"
   ]
  },
  {
   "cell_type": "markdown",
   "metadata": {
    "slideshow": {
     "slide_type": "subslide"
    }
   },
   "source": [
    "## **<font color=\"blue\">* with strings</font>** ##\n",
    "The `*` operator has the effect of multiplying a string:"
   ]
  },
  {
   "cell_type": "code",
   "execution_count": 21,
   "metadata": {
    "slideshow": {
     "slide_type": "fragment"
    }
   },
   "outputs": [
    {
     "data": {
      "text/plain": [
       "'hello hello hello hello hello hello hello hello hello hello '"
      ]
     },
     "execution_count": 21,
     "metadata": {},
     "output_type": "execute_result"
    }
   ],
   "source": [
    "\"hello \" * 10"
   ]
  },
  {
   "cell_type": "markdown",
   "metadata": {
    "slideshow": {
     "slide_type": "fragment"
    }
   },
   "source": [
    "The option of using single or double quotes is handy when you want to use either \" or ' in a string:"
   ]
  },
  {
   "cell_type": "code",
   "execution_count": 7,
   "metadata": {
    "slideshow": {
     "slide_type": "fragment"
    }
   },
   "outputs": [
    {
     "name": "stdout",
     "output_type": "stream",
     "text": [
      "this string's got an apostrophe\n",
      "\"Bond, James Bond\" is a famous quotation\n"
     ]
    }
   ],
   "source": [
    "print(\"this string's got an apostrophe\")\n",
    "print('\"Bond, James Bond\" is a famous quotation')"
   ]
  },
  {
   "cell_type": "markdown",
   "metadata": {
    "slideshow": {
     "slide_type": "subslide"
    }
   },
   "source": [
    "### Special characters ###\n",
    "### <font color = \"blue\">\\n, \\t, and \\\\\"</font> ###\n",
    "Backslash is used for special characters: \n",
    "- `\\n` in a string produce a **n**ew line; \n",
    "- `\\t` produces a **t**ab space (handy for lining up output)\n",
    "- `\\'` or `\\\"` will produce ' or \""
   ]
  },
  {
   "cell_type": "code",
   "execution_count": 10,
   "metadata": {
    "slideshow": {
     "slide_type": "fragment"
    }
   },
   "outputs": [
    {
     "name": "stdout",
     "output_type": "stream",
     "text": [
      "One small step for man,\n",
      " one giant leap for mankind\n",
      "\n",
      "\"Hello\", he said\n",
      "they'll print anything these days\n"
     ]
    }
   ],
   "source": [
    "print(\"One small step for man,\\n one giant leap for mankind\\n\") # you can put a new line anywhere\n",
    "print(\"\\\"Hello\\\", he said\") # double quoted string, containing double quotes\n",
    "print('they\\'ll print anything these days') # single quoted string featuring \\'"
   ]
  },
  {
   "cell_type": "markdown",
   "metadata": {
    "slideshow": {
     "slide_type": "fragment"
    }
   },
   "source": [
    "Since it's used for special characters, how do you think we get a backslash in a string?"
   ]
  },
  {
   "cell_type": "code",
   "execution_count": 24,
   "metadata": {
    "scrolled": true,
    "slideshow": {
     "slide_type": "fragment"
    }
   },
   "outputs": [
    {
     "name": "stdout",
     "output_type": "stream",
     "text": [
      "\\\n"
     ]
    }
   ],
   "source": [
    "print(\"\\\\\")"
   ]
  },
  {
   "cell_type": "markdown",
   "metadata": {
    "solution2": "hidden",
    "solution2_first": true
   },
   "source": [
    "### <span class=\"girk\">Ex 1.3</span> ###\n",
    "    \n",
    "Assign some positive number to a variable `n`. Now, write a *single* print statement that outputs the word \"hello\" a total of `n` times. To make it more difficult:\n",
    "\n",
    "- complete the output with an exclamation mark.\n",
    "- make the first Hello capitalized.\n",
    "\n",
    "E.g. with `n = 4` the output should be Hello hello hello hello!\n"
   ]
  },
  {
   "cell_type": "code",
   "execution_count": 4,
   "metadata": {
    "solution2": "hidden"
   },
   "outputs": [
    {
     "name": "stdout",
     "output_type": "stream",
     "text": [
      "Hello hello hello hello!\n"
     ]
    }
   ],
   "source": [
    "n = 4\n",
    "print(\"Hello\" + \" hello\" * (n - 1) + \"!\")"
   ]
  },
  {
   "cell_type": "markdown",
   "metadata": {},
   "source": [
    "## Changing the type of a variable##\n",
    "We have that we can assign various types things to a variable:"
   ]
  },
  {
   "cell_type": "code",
   "execution_count": 25,
   "metadata": {},
   "outputs": [],
   "source": [
    "string = \"hello\"\n",
    "x = 2.7"
   ]
  },
  {
   "cell_type": "markdown",
   "metadata": {},
   "source": [
    "Python does not prevent us from reassigning a variable to another type: let's reassign `x` to a string:"
   ]
  },
  {
   "cell_type": "code",
   "execution_count": 26,
   "metadata": {},
   "outputs": [],
   "source": [
    "x = \"hello\""
   ]
  },
  {
   "cell_type": "markdown",
   "metadata": {},
   "source": [
    "Some programming languages force you to keep the type of a variable the same, but not so in Python."
   ]
  },
  {
   "cell_type": "markdown",
   "metadata": {
    "slideshow": {
     "slide_type": "subslide"
    }
   },
   "source": [
    "## Slicing and indexing ##\n",
    "Slicing and indexing are ways of working with strings, but they are really important concepts for lots of other data types in Python.\n",
    "\n",
    "### <font color = \"blue\">Indexing</font> ###\n",
    "Remember we said we can think of a string as a string of characters: we can think of each character having a position or ***index***:"
   ]
  },
  {
   "cell_type": "markdown",
   "metadata": {
    "slideshow": {
     "slide_type": "fragment"
    }
   },
   "source": [
    "In Python lots of things with an index start from zero, not just strings. We can look up the letter at a position in a string using its index:"
   ]
  },
  {
   "cell_type": "code",
   "execution_count": 10,
   "metadata": {
    "slideshow": {
     "slide_type": "fragment"
    }
   },
   "outputs": [
    {
     "name": "stdout",
     "output_type": "stream",
     "text": [
      "p\n",
      "e\n"
     ]
    }
   ],
   "source": [
    "fruit = \"pineapple\"\n",
    "print(fruit[0]) # first letter is at position 0\n",
    "print(fruit[8]) # nine letters in the string, so last letter is at position 8"
   ]
  },
  {
   "cell_type": "markdown",
   "metadata": {
    "slideshow": {
     "slide_type": "subslide"
    }
   },
   "source": [
    "It's useful to be able to get the length of a string in Python using the function `len`:"
   ]
  },
  {
   "cell_type": "code",
   "execution_count": 28,
   "metadata": {
    "slideshow": {
     "slide_type": "fragment"
    }
   },
   "outputs": [
    {
     "name": "stdout",
     "output_type": "stream",
     "text": [
      "9\n",
      "e\n"
     ]
    }
   ],
   "source": [
    "print(len(fruit))\n",
    "last_index = len(fruit) - 1 # get the index of the last character...\n",
    "print(fruit[last_index])    # ...to print to get the last character"
   ]
  },
  {
   "cell_type": "markdown",
   "metadata": {
    "solution2": "hidden",
    "solution2_first": true
   },
   "source": [
    "### <span class=\"girk\">Ex 1.4</span> ###\n",
    "Given a string `s` of any length, write and test statements that produce:\n",
    "- the second letter\n",
    "- the second from last letter\n",
    "- the middle letter - e.g. the middle letter of \"cable\" is b."
   ]
  },
  {
   "cell_type": "code",
   "execution_count": 8,
   "metadata": {
    "solution2": "hidden"
   },
   "outputs": [
    {
     "name": "stdout",
     "output_type": "stream",
     "text": [
      "c\n",
      "s\n",
      "p\n"
     ]
    }
   ],
   "source": [
    "s = \"Octopussy\"\n",
    "print(s[1])\n",
    "print(s[-2])\n",
    "print(s[int(len(s) / 2)])"
   ]
  },
  {
   "cell_type": "markdown",
   "metadata": {
    "slideshow": {
     "slide_type": "subslide"
    }
   },
   "source": [
    "### <font color = \"blue\">Reverse indexing</font>\n",
    "Computing the length of a string to get its last character is a bit clunky: you can do this instead:"
   ]
  },
  {
   "cell_type": "code",
   "execution_count": 29,
   "metadata": {
    "slideshow": {
     "slide_type": "fragment"
    }
   },
   "outputs": [
    {
     "data": {
      "text/plain": [
       "'e'"
      ]
     },
     "execution_count": 29,
     "metadata": {},
     "output_type": "execute_result"
    }
   ],
   "source": [
    "fruit[-1]"
   ]
  },
  {
   "cell_type": "markdown",
   "metadata": {
    "slideshow": {
     "slide_type": "fragment"
    }
   },
   "source": [
    "In fact you can use negative numbers to index from the end of the string:"
   ]
  },
  {
   "cell_type": "code",
   "execution_count": 30,
   "metadata": {
    "slideshow": {
     "slide_type": "fragment"
    }
   },
   "outputs": [
    {
     "name": "stdout",
     "output_type": "stream",
     "text": [
      "elppaenip\n"
     ]
    }
   ],
   "source": [
    "print(fruit[-1] + fruit[-2] + fruit[-3] + fruit[-4] + fruit[-5] + fruit[-6] + fruit[-7] + fruit[-8] + fruit[-9])"
   ]
  },
  {
   "cell_type": "markdown",
   "metadata": {
    "slideshow": {
     "slide_type": "subslide"
    }
   },
   "source": [
    "## Slicing ##\n",
    "Slicing means just that: getting a slice of a string. We use two indices: where the slice starts and stops. It might be helpful to remember the index for each character in \"pineapple\"\n",
    "### <font color = \"blue\">Ordinary slicing</font>###"
   ]
  },
  {
   "cell_type": "code",
   "execution_count": 31,
   "metadata": {
    "slideshow": {
     "slide_type": "fragment"
    }
   },
   "outputs": [
    {
     "name": "stdout",
     "output_type": "stream",
     "text": [
      "pin\n",
      "appl\n"
     ]
    }
   ],
   "source": [
    "print(fruit[0:3]) # get from character 0 up to (not including) character 3\n",
    "print(fruit[4:8]) # get from character 4 up to (not including) character 8\n"
   ]
  },
  {
   "cell_type": "markdown",
   "metadata": {
    "slideshow": {
     "slide_type": "fragment"
    }
   },
   "source": [
    "Don't let the second index catch you out: this letter is never included. Some people find it helpful to think of the indices as describing the positions in between letters, like this:"
   ]
  },
  {
   "cell_type": "markdown",
   "metadata": {
    "slideshow": {
     "slide_type": "fragment"
    }
   },
   "source": [
    "Thinking of it this way, the slice returns everything between the indices."
   ]
  },
  {
   "cell_type": "markdown",
   "metadata": {
    "slideshow": {
     "slide_type": "subslide"
    }
   },
   "source": [
    "### <font color = \"blue\">Missing out an index</font>###\n",
    "If you don't supply an index, the whole array up to/beyond the index is returned:"
   ]
  },
  {
   "cell_type": "code",
   "execution_count": 32,
   "metadata": {
    "slideshow": {
     "slide_type": "fragment"
    }
   },
   "outputs": [
    {
     "name": "stdout",
     "output_type": "stream",
     "text": [
      "pineappl\n",
      "eapple\n"
     ]
    }
   ],
   "source": [
    "print(fruit[:8]) # everything (but not including) character eight\n",
    "print(fruit[3:]) # everything including and beyond character three"
   ]
  },
  {
   "cell_type": "markdown",
   "metadata": {
    "slideshow": {
     "slide_type": "fragment"
    },
    "solution2": "hidden",
    "solution2_first": true
   },
   "source": [
    "### <span class=\"girk\">Ex 1.5</span> ###\n",
    "What will be the results of each of the following? Think about them first, then check your answer by testing them.\n",
    "- `fruit[:4] + fruit[4:]`\n",
    "- `fruit[-3:]`\n",
    "- `fruit[:]`"
   ]
  },
  {
   "cell_type": "code",
   "execution_count": 11,
   "metadata": {
    "solution2": "hidden"
   },
   "outputs": [
    {
     "name": "stdout",
     "output_type": "stream",
     "text": [
      "pineapple\n",
      "ple\n",
      "pineapple\n"
     ]
    }
   ],
   "source": [
    "print(fruit[:4] + fruit[4:])\n",
    "print(fruit[-3:])\n",
    "print(fruit[:])"
   ]
  },
  {
   "cell_type": "markdown",
   "metadata": {
    "slideshow": {
     "slide_type": "subslide"
    }
   },
   "source": [
    "## Manipulating strings ##\n",
    "Slicing and indexing can be used to manipulate and create strings in limitless ways:"
   ]
  },
  {
   "cell_type": "code",
   "execution_count": 10,
   "metadata": {
    "slideshow": {
     "slide_type": "fragment"
    }
   },
   "outputs": [
    {
     "name": "stdout",
     "output_type": "stream",
     "text": [
      "Francis Bacon\n",
      " Jane loves eggs\n"
     ]
    }
   ],
   "source": [
    "couple = \"Francis loves Jane\"\n",
    "menu = \"Bacon and eggs\"\n",
    "new_string = couple[:8] + menu[:5]\n",
    "print(new_string)\n",
    "print(couple[-5:] + couple[7:14] + menu[-4:])"
   ]
  },
  {
   "cell_type": "markdown",
   "metadata": {
    "slideshow": {
     "slide_type": "slide"
    }
   },
   "source": [
    "# Lists #\n",
    "A string is a bit like a collection of individual characters: we can \n",
    "- calculate its length\n",
    "- index into it\n",
    "- return slices. "
   ]
  },
  {
   "cell_type": "markdown",
   "metadata": {
    "slideshow": {
     "slide_type": "fragment"
    }
   },
   "source": [
    "Now we introduce the **list**. A list is a *collection of items* that:\n",
    "- is enclosed by `[` and `]`, with items separated by `,`\n",
    "- shares some behaviour with strings: you can get length, use indexing, do slicing and add lists together;\n",
    "- can contain more than characters (in fact almost anything);\n",
    "- can contain a mixture of things."
   ]
  },
  {
   "cell_type": "markdown",
   "metadata": {},
   "source": [
    "### <font color = \"blue\">Lists can hold different objects</font>###"
   ]
  },
  {
   "cell_type": "code",
   "execution_count": 35,
   "metadata": {
    "slideshow": {
     "slide_type": "subslide"
    }
   },
   "outputs": [],
   "source": [
    "squares = [1, 4, 9, 16, 25] # a list of ints\n",
    "words = [\"Tanaka\", \"Osato\", \"Aki\"] # list of strings\n",
    "mixture = [1, 4, \"hello\", 7.6] # list of ints, a string and a float\n",
    "empty_list = []"
   ]
  },
  {
   "cell_type": "markdown",
   "metadata": {
    "slideshow": {
     "slide_type": "fragment"
    }
   },
   "source": [
    "Almost everything we've learned for strings works the same way for a list: to see, let's create a string and a list that look almost the same"
   ]
  },
  {
   "cell_type": "code",
   "execution_count": 36,
   "metadata": {
    "slideshow": {
     "slide_type": "fragment"
    }
   },
   "outputs": [],
   "source": [
    "s = \"grapes\" # a string\n",
    "l = [\"g\", \"r\", \"a\", \"p\", \"e\", \"s\"] # a list of characters"
   ]
  },
  {
   "cell_type": "markdown",
   "metadata": {
    "slideshow": {
     "slide_type": "fragment"
    }
   },
   "source": [
    "Now let's do some things with our string and list to demonstrate the similarities:"
   ]
  },
  {
   "cell_type": "code",
   "execution_count": 37,
   "metadata": {
    "slideshow": {
     "slide_type": "fragment"
    }
   },
   "outputs": [
    {
     "name": "stdout",
     "output_type": "stream",
     "text": [
      "6 \t 6\n",
      "a \t a\n",
      "pes \t ['p', 'e', 's']\n"
     ]
    }
   ],
   "source": [
    "print(len(s), \"\\t\", len(l)) # get length\n",
    "print(s[2],\"\\t\", l[2]) # index\n",
    "print(s[-3:],\"\\t\", l[-3:]) # slice"
   ]
  },
  {
   "cell_type": "markdown",
   "metadata": {
    "slideshow": {
     "slide_type": "subslide"
    }
   },
   "source": [
    "## Mutable vs Immutable ##\n",
    "What happens if you try and change a string, for example try and assign to a position?"
   ]
  },
  {
   "cell_type": "code",
   "execution_count": 38,
   "metadata": {
    "slideshow": {
     "slide_type": "fragment"
    }
   },
   "outputs": [],
   "source": [
    "s = \"help\"\n",
    "#s[0] = \"y\" # won't work"
   ]
  },
  {
   "cell_type": "markdown",
   "metadata": {
    "slideshow": {
     "slide_type": "fragment"
    }
   },
   "source": [
    "If you run this you get an error, because strings *cannot be altered once created*; they are ***immutable***. Let's try the same thing with a list:"
   ]
  },
  {
   "cell_type": "code",
   "execution_count": 39,
   "metadata": {
    "slideshow": {
     "slide_type": "fragment"
    }
   },
   "outputs": [
    {
     "name": "stdout",
     "output_type": "stream",
     "text": [
      "[1, -2, 3, 4, 5]\n"
     ]
    }
   ],
   "source": [
    "l = [1, 2, 3, 4, 5]\n",
    "l[1] = -2\n",
    "print(l)"
   ]
  },
  {
   "cell_type": "markdown",
   "metadata": {
    "slideshow": {
     "slide_type": "subslide"
    }
   },
   "source": [
    "It works!\n",
    "### <font color = \"blue\">Lists are mutable</font>###\n",
    "This means they can be changed. We can assign to a slice as well - the right hand side just replaces the slice:"
   ]
  },
  {
   "cell_type": "code",
   "execution_count": 40,
   "metadata": {
    "slideshow": {
     "slide_type": "fragment"
    }
   },
   "outputs": [
    {
     "name": "stdout",
     "output_type": "stream",
     "text": [
      "[-1, -2, -3, 4, 5]\n",
      "[]\n"
     ]
    }
   ],
   "source": [
    "l[0:3] = [-1, -2, -3] # assign to first three elements\n",
    "print(l)\n",
    "l[:] = [] # what do you think this does?\n",
    "print(l)"
   ]
  },
  {
   "cell_type": "markdown",
   "metadata": {
    "slideshow": {
     "slide_type": "fragment"
    }
   },
   "source": [
    "Finally, since you can put almost anything in a list, we can even put a list in a list:"
   ]
  },
  {
   "cell_type": "code",
   "execution_count": 41,
   "metadata": {
    "slideshow": {
     "slide_type": "fragment"
    }
   },
   "outputs": [
    {
     "name": "stdout",
     "output_type": "stream",
     "text": [
      "[[1, 2, 3], [4, 5, 6], [7, 8, 9]]\n",
      "7\n"
     ]
    }
   ],
   "source": [
    "nested = [[1, 2, 3], [4, 5, 6], [7, 8, 9]]\n",
    "print(nested)\n",
    "print(nested[2][0]) # get third sublist, first item"
   ]
  },
  {
   "cell_type": "markdown",
   "metadata": {
    "solution2": "hidden",
    "solution2_first": true
   },
   "source": [
    "### <span class=\"girk\">Ex 1.6</span> ###\n",
    "Do the following in order. What is your resulting list?\n",
    "- Create a list `l = [1,2,3,4,5]`\n",
    "- Replace the 1 with a 7\n",
    "- Print a slice containing the last three elements\n",
    "- Replace the last three elements with the first two elements\n",
    "- Clear the last element using `[]`"
   ]
  },
  {
   "cell_type": "code",
   "execution_count": 13,
   "metadata": {
    "solution2": "hidden"
   },
   "outputs": [
    {
     "name": "stdout",
     "output_type": "stream",
     "text": [
      "[3, 4, 5]\n"
     ]
    }
   ],
   "source": [
    "l = [1,2,3,4,5]\n",
    "l[0] = 7\n",
    "print(l[-3:])\n",
    "l[-3:] = l[:3]\n",
    "l[-1] = []"
   ]
  },
  {
   "cell_type": "markdown",
   "metadata": {
    "slideshow": {
     "slide_type": "slide"
    }
   },
   "source": [
    "## Real programming ##\n",
    "This is where we start to get Python to do some work for us. Computers are good at repetitive tasks like adding the numbers from 1 to 1,000."
   ]
  },
  {
   "cell_type": "markdown",
   "metadata": {
    "slideshow": {
     "slide_type": "fragment"
    }
   },
   "source": [
    "### Algorithm ###\n",
    "1. begin with $n = 1, \\text{total} = 0$\n",
    "1. calculate $\\text{total} = \\text{total} + n$\n",
    "1. set $n = n + 1$\n",
    "1. repeat 2. and 3. while $n <= 1000$"
   ]
  },
  {
   "cell_type": "markdown",
   "metadata": {
    "slideshow": {
     "slide_type": "fragment"
    }
   },
   "source": [
    "Things we'll need: \n",
    "- int variables `n` and `sum` \n",
    "- a way of makeing a section repeat: the keyword `while` does this\n",
    "- a condition to repeat 2. and 3.: here the condition is that `n <= 1000` \n",
    "\n",
    "Here's the program:"
   ]
  },
  {
   "cell_type": "code",
   "execution_count": 42,
   "metadata": {
    "slideshow": {
     "slide_type": "subslide"
    }
   },
   "outputs": [
    {
     "name": "stdout",
     "output_type": "stream",
     "text": [
      "500500\n"
     ]
    }
   ],
   "source": [
    "n = 1\n",
    "sum = 0\n",
    "while n <= 1000:\n",
    "    sum = sum + n\n",
    "    n = n + 1\n",
    "print(sum)"
   ]
  },
  {
   "cell_type": "markdown",
   "metadata": {
    "slideshow": {
     "slide_type": "fragment"
    }
   },
   "source": [
    "### <font color = \"blue\">While loop</font>###\n",
    "- `while n <= 10000` is followed by `:` this marks the end of the condition (the rule for repeating),\n",
    "- The section to be repeated is *indented*: this is required in Python to show what code should be repeated. It makes it easier to understand as well.\n",
    "- The rest of the program (the `print` statement) is unindented, so isn't repeated.\n",
    "\n",
    "A section of code that repeats is called a ***loop***: our code is an example of a ***while loop***. Notice that we use an *old value* of a variable each time to update its *new value*: nearly every loop will have something similar."
   ]
  },
  {
   "cell_type": "markdown",
   "metadata": {
    "solution2": "shown",
    "solution2_first": true
   },
   "source": [
    "### <span class=\"girk\">Ex 1.7</span> ###\n",
    "Write a loop that counts from one to ten. Use a variable `i` as the loop counter, and print `i` on each pass."
   ]
  },
  {
   "cell_type": "code",
   "execution_count": 1,
   "metadata": {
    "solution2": "shown"
   },
   "outputs": [
    {
     "name": "stdout",
     "output_type": "stream",
     "text": [
      "1\n",
      "2\n",
      "3\n",
      "4\n",
      "5\n",
      "6\n",
      "7\n",
      "8\n",
      "9\n",
      "10\n"
     ]
    }
   ],
   "source": [
    "i = 1\n",
    "while i <= 10:\n",
    "    print(i)\n",
    "    i += 1"
   ]
  },
  {
   "cell_type": "markdown",
   "metadata": {
    "solution2": "hidden",
    "solution2_first": true
   },
   "source": [
    "### <span class=\"girk\">Ex 1.8</span>###\n",
    "Set a variable `x` with a value of $x = 1$. Modify your loop from the last exercise so that on each pass it calculates and outputs $\\frac{1}{2}(\\frac{2}{x} + x)$ using the previous value of $x$."
   ]
  },
  {
   "cell_type": "code",
   "execution_count": 17,
   "metadata": {
    "solution2": "hidden"
   },
   "outputs": [
    {
     "name": "stdout",
     "output_type": "stream",
     "text": [
      "1.5\n",
      "1.4166666666666665\n",
      "1.4142156862745097\n",
      "1.4142135623746899\n",
      "1.414213562373095\n",
      "1.414213562373095\n",
      "1.414213562373095\n",
      "1.414213562373095\n",
      "1.414213562373095\n",
      "1.414213562373095\n"
     ]
    }
   ],
   "source": [
    "i = 1\n",
    "x = 1\n",
    "while i <= 10:\n",
    "    x = 0.5 * ( 2 / x + x)\n",
    "    print(x)\n",
    "    i += 1"
   ]
  },
  {
   "cell_type": "markdown",
   "metadata": {
    "slideshow": {
     "slide_type": "subslide"
    }
   },
   "source": [
    "### <font color = \"blue\">If statement</font>###\n",
    "Loops are used to repeat sections of code. An ***if statement*** is used to control the flow of a program, by choosing which bit of code gets run. Here's a very simple example: the program asks for a number\n",
    "and prints whether it is positive, negative or zero:"
   ]
  },
  {
   "cell_type": "code",
   "execution_count": 43,
   "metadata": {
    "slideshow": {
     "slide_type": "fragment"
    }
   },
   "outputs": [
    {
     "name": "stdin",
     "output_type": "stream",
     "text": [
      " 0\n"
     ]
    },
    {
     "name": "stdout",
     "output_type": "stream",
     "text": [
      "zero!!\n"
     ]
    }
   ],
   "source": [
    "x = int(input())\n",
    "if (x > 0):\n",
    "    print(\"positive!\")\n",
    "elif (x < 0):\n",
    "    print(\"negative!!\")\n",
    "else:\n",
    "    print(\"zero!!\")"
   ]
  },
  {
   "cell_type": "markdown",
   "metadata": {
    "slideshow": {
     "slide_type": "subslide"
    }
   },
   "source": [
    "This emaple features a new function `input` which gets input from the user. You can use `input` to set the value of a variable which is useful:"
   ]
  },
  {
   "cell_type": "code",
   "execution_count": 44,
   "metadata": {
    "slideshow": {
     "slide_type": "fragment"
    }
   },
   "outputs": [
    {
     "name": "stdout",
     "output_type": "stream",
     "text": [
      "Please enter your name:\n"
     ]
    },
    {
     "name": "stdin",
     "output_type": "stream",
     "text": [
      " stuart\n"
     ]
    },
    {
     "name": "stdout",
     "output_type": "stream",
     "text": [
      "Hello, stuart\n"
     ]
    }
   ],
   "source": [
    "print(\"Please enter your name:\")\n",
    "whoami = input()\n",
    "print(\"Hello,\", whoami)"
   ]
  },
  {
   "cell_type": "markdown",
   "metadata": {
    "slideshow": {
     "slide_type": "fragment"
    }
   },
   "source": [
    " Not all if statements have `elif` or `else` sections: these are optional. Here's an example without the `elif`:"
   ]
  },
  {
   "cell_type": "code",
   "execution_count": 45,
   "metadata": {
    "slideshow": {
     "slide_type": "fragment"
    }
   },
   "outputs": [
    {
     "name": "stdin",
     "output_type": "stream",
     "text": [
      " -3\n"
     ]
    },
    {
     "name": "stdout",
     "output_type": "stream",
     "text": [
      "not positive!!\n"
     ]
    }
   ],
   "source": [
    "x = int(input())\n",
    "if (x > 0):\n",
    "    print(\"positive!\")\n",
    "else:\n",
    "    print(\"not positive!!\")"
   ]
  },
  {
   "cell_type": "markdown",
   "metadata": {
    "slideshow": {
     "slide_type": "slide"
    },
    "solution2": "hidden",
    "solution2_first": true
   },
   "source": [
    "### <span class=\"girk\">Ex 1.9</span>###\n",
    "Write a block of code that sums all integers from 1 to 1,000 inclusive that are multiples of 3 or 5. Hint: to check whether two values `a` and `b` are equal use `a == b`."
   ]
  },
  {
   "cell_type": "code",
   "execution_count": 19,
   "metadata": {
    "solution2": "hidden"
   },
   "outputs": [
    {
     "data": {
      "text/plain": [
       "234168"
      ]
     },
     "execution_count": 19,
     "metadata": {},
     "output_type": "execute_result"
    }
   ],
   "source": [
    "total = 0\n",
    "for i in range(1, 1001):\n",
    "    if i % 3 == 0 or i % 5 == 0:\n",
    "        total += i\n",
    "total"
   ]
  },
  {
   "cell_type": "markdown",
   "metadata": {},
   "source": [
    "## End of part 1 ##\n",
    "That's the end of this notebook: continue to the next one where we start to look at controlling the flow of execution of our code."
   ]
  }
 ],
 "metadata": {
  "kernelspec": {
   "display_name": "Python 3",
   "language": "python",
   "name": "python3"
  },
  "language_info": {
   "codemirror_mode": {
    "name": "ipython",
    "version": 3
   },
   "file_extension": ".py",
   "mimetype": "text/x-python",
   "name": "python",
   "nbconvert_exporter": "python",
   "pygments_lexer": "ipython3",
   "version": "3.7.0"
  },
  "toc": {
   "base_numbering": 1,
   "nav_menu": {},
   "number_sections": false,
   "sideBar": true,
   "skip_h1_title": false,
   "title_cell": "Table of Contents",
   "title_sidebar": "Contents",
   "toc_cell": false,
   "toc_position": {},
   "toc_section_display": true,
   "toc_window_display": true
  }
 },
 "nbformat": 4,
 "nbformat_minor": 2
}
