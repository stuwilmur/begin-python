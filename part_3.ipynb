{
 "cells": [
  {
   "cell_type": "markdown",
   "metadata": {},
   "source": [
    "# Python part 3 #\n",
    "## Objects (*things*) and functions"
   ]
  },
  {
   "cell_type": "markdown",
   "metadata": {},
   "source": [
    "So far in Python we've come across things that exist such as:\n",
    "- a variable with a value: `x = 1`\n",
    "- a string: `s = \"hello\"`\n",
    "- a list: `a = [1,2,3]`\n",
    "These are examples of ***objects***: they are all separate instances of things in the computer's memory. They just exist and don't do anything on their own.\n",
    "\n",
    "We have also come across functions that ***do something***:\n",
    "- `print()`\n",
    "- `help()`\n",
    "- `range()`\n",
    "\n",
    "In addition to these standalone functions, all the objects in Python come with their own ***built-in functions***. We use call these functions by following the name of the object by a dot and the name of the function. For example, all lists have a `clear` function that clears the list:"
   ]
  },
  {
   "cell_type": "code",
   "execution_count": 1,
   "metadata": {},
   "outputs": [
    {
     "data": {
      "text/plain": [
       "[]"
      ]
     },
     "execution_count": 1,
     "metadata": {},
     "output_type": "execute_result"
    }
   ],
   "source": [
    "a = [1,2,3]\n",
    "a.clear()\n",
    "a"
   ]
  },
  {
   "cell_type": "markdown",
   "metadata": {},
   "source": [
    "As another example, all strings have a `capitalize` function:"
   ]
  },
  {
   "cell_type": "code",
   "execution_count": 2,
   "metadata": {},
   "outputs": [
    {
     "name": "stdout",
     "output_type": "stream",
     "text": [
      "Hello\n"
     ]
    }
   ],
   "source": [
    "s = \"hello\"\n",
    "print(s.capitalize())"
   ]
  },
  {
   "cell_type": "markdown",
   "metadata": {},
   "source": [
    "Functions that belong to an object are properly called ***methods***. Every object has methods. Objects can also have variables that belong to them called ***member variables***, which we will come to later.\n",
    "\n",
    "Let's look again at list objects in Python and see what methods they have."
   ]
  },
  {
   "cell_type": "markdown",
   "metadata": {},
   "source": [
    "## Data structures ##\n",
    "### <font color = \"blue\"> Lists </font> ###\n",
    "We met lists in part one. We compared a string - which is a collection of characters - and a list - which is a collection of almost any object (even a mixture of objects). Let's look at some of the methods that are available to manipulate lists, by starting with a simple list and manipulating it."
   ]
  },
  {
   "cell_type": "code",
   "execution_count": 12,
   "metadata": {},
   "outputs": [],
   "source": [
    "l = [1,2,3,4,5] # start with a simple list of ints"
   ]
  },
  {
   "cell_type": "markdown",
   "metadata": {},
   "source": [
    "The `append` method appends an item..."
   ]
  },
  {
   "cell_type": "code",
   "execution_count": 4,
   "metadata": {},
   "outputs": [
    {
     "data": {
      "text/plain": [
       "[1, 2, 3, 4, 5, 6]"
      ]
     },
     "execution_count": 4,
     "metadata": {},
     "output_type": "execute_result"
    }
   ],
   "source": [
    "l.append(6)\n",
    "l"
   ]
  },
  {
   "cell_type": "markdown",
   "metadata": {},
   "source": [
    "...while `pop` removes one"
   ]
  },
  {
   "cell_type": "code",
   "execution_count": 5,
   "metadata": {},
   "outputs": [
    {
     "data": {
      "text/plain": [
       "[1, 2, 3, 4, 5]"
      ]
     },
     "execution_count": 5,
     "metadata": {},
     "output_type": "execute_result"
    }
   ],
   "source": [
    "l.pop()\n",
    "l"
   ]
  },
  {
   "cell_type": "markdown",
   "metadata": {},
   "source": [
    "`insert(i,x)` inserts object x at position i"
   ]
  },
  {
   "cell_type": "code",
   "execution_count": 6,
   "metadata": {},
   "outputs": [
    {
     "data": {
      "text/plain": [
       "[1, 1.5, 2, 3, 4, 5]"
      ]
     },
     "execution_count": 6,
     "metadata": {},
     "output_type": "execute_result"
    }
   ],
   "source": [
    "l.insert(1, 1.5)\n",
    "l"
   ]
  },
  {
   "cell_type": "markdown",
   "metadata": {},
   "source": [
    "Clear the list with `clear`"
   ]
  },
  {
   "cell_type": "code",
   "execution_count": 7,
   "metadata": {},
   "outputs": [
    {
     "data": {
      "text/plain": [
       "[]"
      ]
     },
     "execution_count": 7,
     "metadata": {},
     "output_type": "execute_result"
    }
   ],
   "source": [
    "l.clear()\n",
    "l"
   ]
  },
  {
   "cell_type": "markdown",
   "metadata": {},
   "source": [
    "Use `index` to find the index of the first occurence of an item"
   ]
  },
  {
   "cell_type": "code",
   "execution_count": 8,
   "metadata": {},
   "outputs": [
    {
     "data": {
      "text/plain": [
       "1"
      ]
     },
     "execution_count": 8,
     "metadata": {},
     "output_type": "execute_result"
    }
   ],
   "source": [
    "l = [\"h\", \"e\", \"l\", \"l\", \"o\"]\n",
    "l.index(\"e\")"
   ]
  },
  {
   "cell_type": "markdown",
   "metadata": {},
   "source": [
    "and finally use `count` to count items:"
   ]
  },
  {
   "cell_type": "code",
   "execution_count": 9,
   "metadata": {},
   "outputs": [
    {
     "data": {
      "text/plain": [
       "2"
      ]
     },
     "execution_count": 9,
     "metadata": {},
     "output_type": "execute_result"
    }
   ],
   "source": [
    "l.count(\"l\")"
   ]
  },
  {
   "cell_type": "markdown",
   "metadata": {},
   "source": [
    "There are lots more, but these are the most commonly used ones."
   ]
  },
  {
   "cell_type": "markdown",
   "metadata": {},
   "source": [
    "### <span class=\"girk\">Ex 3.1</span> ###\n",
    "The list `records` consists of personal records. Each record is simply a list with two entries: a name and a year of birth: "
   ]
  },
  {
   "cell_type": "code",
   "execution_count": 3,
   "metadata": {},
   "outputs": [],
   "source": [
    "records = [\n",
    "    [ \"Maryam d'Abo\" , 1960 ] ,\n",
    "    [ \"Claudine Auger\" , 1941 ],\n",
    "    [ \"Barbara Bach\" , 1947 ],\n",
    "    [ \"Daniela Bianchi\" , 1942 ],\n",
    "    [ \"Carole Boquet\" , 1957 ],\n",
    "    [ \"Lois Chiles\" , 1947 ],\n",
    "    [ \"Britt Ekland\" , 1942 ],\n",
    "    [ \"Carey Lowell\" , 1961 ],\n",
    "    [ \"Tanya Roberts\" , 1955 ],\n",
    "    [ \"Jill St. John\" , 1940 ],\n",
    "]"
   ]
  },
  {
   "cell_type": "markdown",
   "metadata": {
    "solution2": "hidden",
    "solution2_first": true
   },
   "source": [
    "Write some code that will produce a second list that contains only those people born after 1950. Do this by:\n",
    "- creating an empty list;\n",
    "- writing a loop over each record in `records`;\n",
    "- checking the record, and if appropriate using the `append` method to add it to your new list."
   ]
  },
  {
   "cell_type": "code",
   "execution_count": 4,
   "metadata": {
    "solution2": "hidden"
   },
   "outputs": [
    {
     "data": {
      "text/plain": [
       "[[\"Maryam d'Abo\", 1960],\n",
       " ['Carole Boquet', 1957],\n",
       " ['Carey Lowell', 1961],\n",
       " ['Tanya Roberts', 1955]]"
      ]
     },
     "execution_count": 4,
     "metadata": {},
     "output_type": "execute_result"
    }
   ],
   "source": [
    "post_1950 = []\n",
    "for record in records:\n",
    "    if record[1] > 1950:\n",
    "        post_1950.append(record)\n",
    "post_1950"
   ]
  },
  {
   "cell_type": "markdown",
   "metadata": {},
   "source": [
    "## Strings are immutable... ##\n",
    "Remember using slices with strings?"
   ]
  },
  {
   "cell_type": "code",
   "execution_count": 10,
   "metadata": {},
   "outputs": [
    {
     "name": "stdout",
     "output_type": "stream",
     "text": [
      "hello\n"
     ]
    }
   ],
   "source": [
    "s = \"hello there\"\n",
    "print(s[0:5])"
   ]
  },
  {
   "cell_type": "markdown",
   "metadata": {},
   "source": [
    "We can do the same with a list:"
   ]
  },
  {
   "cell_type": "code",
   "execution_count": 11,
   "metadata": {},
   "outputs": [
    {
     "name": "stdout",
     "output_type": "stream",
     "text": [
      "[0, 1, 2]\n",
      "[4, 5]\n"
     ]
    }
   ],
   "source": [
    "nums = [0, 1, 2, 3, 4, 5]\n",
    "print(nums[0:3]) # first three elements\n",
    "print(nums[-2:]) # last two elements\n"
   ]
  },
  {
   "cell_type": "markdown",
   "metadata": {},
   "source": [
    "We said that strings are **immutable**; they can't be altered, so you can't do"
   ]
  },
  {
   "cell_type": "code",
   "execution_count": 12,
   "metadata": {},
   "outputs": [],
   "source": [
    "#s[3] = u # you get an error if you do this"
   ]
  },
  {
   "cell_type": "markdown",
   "metadata": {},
   "source": [
    "## ... but lists *are* mutable\n",
    "You can reassign individual items"
   ]
  },
  {
   "cell_type": "code",
   "execution_count": 13,
   "metadata": {},
   "outputs": [
    {
     "data": {
      "text/plain": [
       "[0, 1, 2, 8, 4, 5]"
      ]
     },
     "execution_count": 13,
     "metadata": {},
     "output_type": "execute_result"
    }
   ],
   "source": [
    "nums[3] = 8\n",
    "nums"
   ]
  },
  {
   "cell_type": "markdown",
   "metadata": {},
   "source": [
    "or even slices:"
   ]
  },
  {
   "cell_type": "code",
   "execution_count": 14,
   "metadata": {},
   "outputs": [
    {
     "data": {
      "text/plain": [
       "[0, -1, -2, 8, 4, 5]"
      ]
     },
     "execution_count": 14,
     "metadata": {},
     "output_type": "execute_result"
    }
   ],
   "source": [
    "nums[:3] = [0, -1, -2] # reassign first three items\n",
    "nums"
   ]
  },
  {
   "cell_type": "markdown",
   "metadata": {},
   "source": [
    "When reassigning slices like this, the sizes don't need to match:"
   ]
  },
  {
   "cell_type": "code",
   "execution_count": 15,
   "metadata": {},
   "outputs": [
    {
     "data": {
      "text/plain": [
       "[1]"
      ]
     },
     "execution_count": 15,
     "metadata": {},
     "output_type": "execute_result"
    }
   ],
   "source": [
    "nums[:] = [1] # replace the whole list with a list of length 1\n",
    "nums"
   ]
  },
  {
   "cell_type": "markdown",
   "metadata": {},
   "source": [
    "### <span class=\"girk\">Ex 3.2</span> ###\n",
    "Given what you known of slicing, what does the following do?"
   ]
  },
  {
   "cell_type": "code",
   "execution_count": 5,
   "metadata": {
    "solution2": "hidden",
    "solution2_first": true
   },
   "outputs": [],
   "source": [
    "nums = [1, 2, 3, 4, 5]\n",
    "nums[:] = list[::-1]"
   ]
  },
  {
   "cell_type": "code",
   "execution_count": 6,
   "metadata": {
    "solution2": "hidden"
   },
   "outputs": [
    {
     "data": {
      "text/plain": [
       "[5, 4, 3, 2, 1]"
      ]
     },
     "execution_count": 6,
     "metadata": {},
     "output_type": "execute_result"
    }
   ],
   "source": [
    "list"
   ]
  },
  {
   "cell_type": "markdown",
   "metadata": {},
   "source": [
    "### Clearing bits of strings ###\n",
    "We have used slices to select part of a list. Now we can **delete** part of a list by taking a **slice** and assigning it to an empty list, `[]`.\n",
    "\n",
    "Clear the first two items:"
   ]
  },
  {
   "cell_type": "code",
   "execution_count": 17,
   "metadata": {},
   "outputs": [
    {
     "data": {
      "text/plain": [
       "[3, 4, 5]"
      ]
     },
     "execution_count": 17,
     "metadata": {},
     "output_type": "execute_result"
    }
   ],
   "source": [
    "nums = [1,2,3,4,5]\n",
    "nums[0:2] = []\n",
    "nums"
   ]
  },
  {
   "cell_type": "markdown",
   "metadata": {},
   "source": [
    "clear the whole list:"
   ]
  },
  {
   "cell_type": "code",
   "execution_count": 18,
   "metadata": {},
   "outputs": [
    {
     "data": {
      "text/plain": [
       "[]"
      ]
     },
     "execution_count": 18,
     "metadata": {},
     "output_type": "execute_result"
    }
   ],
   "source": [
    "nums[:] = []\n",
    "nums"
   ]
  },
  {
   "cell_type": "markdown",
   "metadata": {},
   "source": [
    "clear a single item"
   ]
  },
  {
   "cell_type": "code",
   "execution_count": 3,
   "metadata": {},
   "outputs": [
    {
     "data": {
      "text/plain": [
       "[2, 3]"
      ]
     },
     "execution_count": 3,
     "metadata": {},
     "output_type": "execute_result"
    }
   ],
   "source": [
    "nums = [1,2,3]\n",
    "nums[0:1] = []\n",
    "nums"
   ]
  },
  {
   "cell_type": "markdown",
   "metadata": {},
   "source": [
    "Notice that we have to select a slice to replace, rather than an item. This doesn't work:"
   ]
  },
  {
   "cell_type": "code",
   "execution_count": 4,
   "metadata": {},
   "outputs": [
    {
     "data": {
      "text/plain": [
       "[[], 3]"
      ]
     },
     "execution_count": 4,
     "metadata": {},
     "output_type": "execute_result"
    }
   ],
   "source": [
    "nums[0] = []\n",
    "nums"
   ]
  },
  {
   "cell_type": "markdown",
   "metadata": {},
   "source": [
    "as we end up with a list within a list."
   ]
  },
  {
   "cell_type": "markdown",
   "metadata": {},
   "source": [
    "## Tuples ##\n",
    "Tuples are very like lists. A tuple (usually pronouced \"tyou-pell\" but sometimes \"tupple\") is a collection that\n",
    "- may contain different object types\n",
    "- is ordered\n",
    "- is ***immutable*** - this is probably the key difference.\n",
    "\n",
    "We define a tuple like a list, but without the square brackets:"
   ]
  },
  {
   "cell_type": "code",
   "execution_count": 8,
   "metadata": {},
   "outputs": [
    {
     "data": {
      "text/plain": [
       "(1, 2, 'a', 2.4)"
      ]
     },
     "execution_count": 8,
     "metadata": {},
     "output_type": "execute_result"
    }
   ],
   "source": [
    "tuple = 1, 2, \"a\", 2.4\n",
    "tuple"
   ]
  },
  {
   "cell_type": "markdown",
   "metadata": {},
   "source": [
    "A tuple of length one is defined using a trailing comma:"
   ]
  },
  {
   "cell_type": "code",
   "execution_count": 22,
   "metadata": {},
   "outputs": [
    {
     "data": {
      "text/plain": [
       "tuple"
      ]
     },
     "execution_count": 22,
     "metadata": {},
     "output_type": "execute_result"
    }
   ],
   "source": [
    "notatuple = 0\n",
    "isatuple = 0,\n",
    "type(isatuple) # check it's a tuple"
   ]
  },
  {
   "cell_type": "markdown",
   "metadata": {},
   "source": [
    "Sometimes round brackets are used to enclose a tuple, though they're not necessary.\n",
    "\n",
    "A nice use of tuples is to assign multiple variables at once:"
   ]
  },
  {
   "cell_type": "code",
   "execution_count": 23,
   "metadata": {},
   "outputs": [
    {
     "name": "stdout",
     "output_type": "stream",
     "text": [
      "1 2 3\n"
     ]
    }
   ],
   "source": [
    "x, y, z = 1, 2, 3\n",
    "print(x, y, z)"
   ]
  },
  {
   "cell_type": "markdown",
   "metadata": {},
   "source": [
    "This statement really containts two tuples - `x, y, z` and `1, 2, 3` - and we are able to assign individual elements separately.\n",
    "\n",
    "You can access elements in a tuple as you would a list:"
   ]
  },
  {
   "cell_type": "code",
   "execution_count": 9,
   "metadata": {},
   "outputs": [
    {
     "data": {
      "text/plain": [
       "1"
      ]
     },
     "execution_count": 9,
     "metadata": {},
     "output_type": "execute_result"
    }
   ],
   "source": [
    "tuple[0]"
   ]
  },
  {
   "cell_type": "markdown",
   "metadata": {
    "solution2": "shown",
    "solution2_first": true
   },
   "source": [
    "### <span class=\"girk\">Ex 3.3</span> ###\n",
    "Create a tuple containing a string, an int, a float and a list."
   ]
  },
  {
   "cell_type": "code",
   "execution_count": 2,
   "metadata": {
    "solution2": "shown"
   },
   "outputs": [],
   "source": [
    "tuple2 = (\"hello\", 7, 3.4, [1, 2] )"
   ]
  },
  {
   "cell_type": "markdown",
   "metadata": {},
   "source": [
    "## Sets ##\n",
    "Sets are collections that\n",
    "- are unordered\n",
    "- have no duplicate items\n",
    "\n",
    "Define a set using brace brackets:"
   ]
  },
  {
   "cell_type": "code",
   "execution_count": 24,
   "metadata": {},
   "outputs": [
    {
     "data": {
      "text/plain": [
       "{'e', 'h', 'l', 'o'}"
      ]
     },
     "execution_count": 24,
     "metadata": {},
     "output_type": "execute_result"
    }
   ],
   "source": [
    "set = {\"h\", \"e\", \"l\", \"l\", \"o\"}\n",
    "set"
   ]
  },
  {
   "cell_type": "markdown",
   "metadata": {},
   "source": [
    "Notice:\n",
    "- the set doesn't let us have duplicates (the second l was removed)\n",
    "- the order is disregarded"
   ]
  },
  {
   "cell_type": "markdown",
   "metadata": {},
   "source": [
    "Check the presence of an item using `in`:"
   ]
  },
  {
   "cell_type": "code",
   "execution_count": 25,
   "metadata": {},
   "outputs": [
    {
     "data": {
      "text/plain": [
       "True"
      ]
     },
     "execution_count": 25,
     "metadata": {},
     "output_type": "execute_result"
    }
   ],
   "source": [
    "\"h\" in set"
   ]
  },
  {
   "cell_type": "markdown",
   "metadata": {},
   "source": [
    "Add an item to the set using `add`..."
   ]
  },
  {
   "cell_type": "code",
   "execution_count": 26,
   "metadata": {},
   "outputs": [
    {
     "data": {
      "text/plain": [
       "{'e', 'h', 'l', 'o', 'z'}"
      ]
     },
     "execution_count": 26,
     "metadata": {},
     "output_type": "execute_result"
    }
   ],
   "source": [
    "set.add(\"z\")\n",
    "set"
   ]
  },
  {
   "cell_type": "markdown",
   "metadata": {},
   "source": [
    "...and remove one using `remove`"
   ]
  },
  {
   "cell_type": "code",
   "execution_count": 27,
   "metadata": {},
   "outputs": [
    {
     "data": {
      "text/plain": [
       "{'h', 'l', 'o', 'z'}"
      ]
     },
     "execution_count": 27,
     "metadata": {},
     "output_type": "execute_result"
    }
   ],
   "source": [
    "set.remove(\"e\")\n",
    "set"
   ]
  },
  {
   "cell_type": "markdown",
   "metadata": {},
   "source": [
    "Some methods are similar to those for lists, such as `clear`"
   ]
  },
  {
   "cell_type": "code",
   "execution_count": 28,
   "metadata": {},
   "outputs": [
    {
     "data": {
      "text/plain": [
       "set()"
      ]
     },
     "execution_count": 28,
     "metadata": {},
     "output_type": "execute_result"
    }
   ],
   "source": [
    "set.clear()\n",
    "set"
   ]
  },
  {
   "cell_type": "markdown",
   "metadata": {},
   "source": [
    "## Dictionaries ##\n",
    "The list is a data structure that allows you to access a value - an item in the list - using an index, i.e. its position:"
   ]
  },
  {
   "cell_type": "code",
   "execution_count": 29,
   "metadata": {},
   "outputs": [
    {
     "data": {
      "text/plain": [
       "'Chris'"
      ]
     },
     "execution_count": 29,
     "metadata": {},
     "output_type": "execute_result"
    }
   ],
   "source": [
    "students = [\"Alice\", \"Chris\", \"Pavel\", \"Pablo\"]\n",
    "students[1]"
   ]
  },
  {
   "cell_type": "markdown",
   "metadata": {},
   "source": [
    "A dictionary allows you to access a ***value*** using a ***key*** rather than an index. Let's use a dictionary of students to store their grades:\n",
    "- the ***key*** is their **name**\n",
    "- the ***value*** is their **grade**"
   ]
  },
  {
   "cell_type": "code",
   "execution_count": 30,
   "metadata": {},
   "outputs": [
    {
     "data": {
      "text/plain": [
       "{'Alice': 13, 'Chris': 11, 'Pavel': 19, 'Pablo': 4, 'Martin': 13}"
      ]
     },
     "execution_count": 30,
     "metadata": {},
     "output_type": "execute_result"
    }
   ],
   "source": [
    "students = {\"Alice\": 13, \"Chris\": 11, \"Pavel\": 19, \"Pablo\": 4, \"Martin\" : 13}\n",
    "students"
   ]
  },
  {
   "cell_type": "markdown",
   "metadata": {},
   "source": [
    "Each item in the dictionary is defined using **key**:**value**, and the whole thing is in brace brackets.\n",
    "\n",
    "A dictionary:\n",
    "- has no duplicate *keys* (just like a paper dictionary has no duplicate words)\n",
    "- can have identical *items* (as long as they have a different key): Alice and Martin have the same grade as we saw\n",
    "- is unordered - we don't care about the position of items\n",
    "\n",
    "Access an item using its key:"
   ]
  },
  {
   "cell_type": "code",
   "execution_count": 31,
   "metadata": {},
   "outputs": [
    {
     "data": {
      "text/plain": [
       "13"
      ]
     },
     "execution_count": 31,
     "metadata": {},
     "output_type": "execute_result"
    }
   ],
   "source": [
    "students[\"Alice\"]"
   ]
  },
  {
   "cell_type": "markdown",
   "metadata": {},
   "source": [
    "Add an item"
   ]
  },
  {
   "cell_type": "code",
   "execution_count": 32,
   "metadata": {},
   "outputs": [
    {
     "data": {
      "text/plain": [
       "{'Alice': 13, 'Chris': 11, 'Pavel': 19, 'Pablo': 4, 'Martin': 13, 'Aziz': 12}"
      ]
     },
     "execution_count": 32,
     "metadata": {},
     "output_type": "execute_result"
    }
   ],
   "source": [
    "students[\"Aziz\"] = 12\n",
    "students"
   ]
  },
  {
   "cell_type": "markdown",
   "metadata": {},
   "source": [
    "Remove an item using `pop`"
   ]
  },
  {
   "cell_type": "code",
   "execution_count": 33,
   "metadata": {},
   "outputs": [
    {
     "data": {
      "text/plain": [
       "{'Alice': 13, 'Chris': 11, 'Pavel': 19, 'Pablo': 4, 'Martin': 13}"
      ]
     },
     "execution_count": 33,
     "metadata": {},
     "output_type": "execute_result"
    }
   ],
   "source": [
    "students.pop(\"Aziz\")\n",
    "students"
   ]
  },
  {
   "cell_type": "markdown",
   "metadata": {},
   "source": [
    "Check for a key using `in` (in the same way as we did with a set):"
   ]
  },
  {
   "cell_type": "code",
   "execution_count": 34,
   "metadata": {},
   "outputs": [
    {
     "data": {
      "text/plain": [
       "True"
      ]
     },
     "execution_count": 34,
     "metadata": {},
     "output_type": "execute_result"
    }
   ],
   "source": [
    "\"Alice\" in students"
   ]
  },
  {
   "cell_type": "markdown",
   "metadata": {},
   "source": [
    "### <span class=\"girk\">Ex 3.4</span> ###\n",
    "An encrypted message has been discovered together with part of a codebook describing the simple cipher used to encrypt it. For each entry in the dictionary below, the key is a letter in the secret message, and the value is a letter in the plaintext original message:"
   ]
  },
  {
   "cell_type": "code",
   "execution_count": 45,
   "metadata": {},
   "outputs": [],
   "source": [
    "message = \"shp#hars#rtdw#oitlw#halw#izwa#shp#xmw#yhma#xak#halw#izwa#shp#rhhj#kwxoz#ta#ozw#bxlw\"\n",
    "\n",
    "codebook = {\n",
    "# code : original\n",
    " 'y': 'b',\n",
    " 'l': 'c',\n",
    " 'k': 'd',\n",
    " 'b': 'f',\n",
    " 'f': 'g',\n",
    " 'z': 'h',\n",
    " 't': 'i',\n",
    " 'n': 'j',\n",
    " 'j': 'k',\n",
    " 'r': 'l',\n",
    " 'q': 'm',\n",
    " 'a': 'n',\n",
    " 'h': 'o',\n",
    " 'v': 'p',\n",
    " 'g': 'q',\n",
    " 'm': 'r',\n",
    " 'u': 's',\n",
    " 'p': 'u',\n",
    " 'd': 'v',\n",
    " 'i': 'w',\n",
    " 'c': 'x',\n",
    " 's': 'y',\n",
    " 'e': 'z',\n",
    " '#': ' '\n",
    "}"
   ]
  },
  {
   "cell_type": "markdown",
   "metadata": {
    "solution2": "hidden",
    "solution2_first": true
   },
   "source": [
    "However, the last three crucial entries are missing. These have been discovered to be\n",
    "- `'w': 'e'`\n",
    "- `'o': 't'`\n",
    "- `'x': 'a'`\n",
    "\n",
    "- Add these entries to `codebook` like we did with the entry \"Alice\". \n",
    "- Write a loop that takes each letter of `message` and uses `codebook` to look up the unencrypted letter, to decipher the message."
   ]
  },
  {
   "cell_type": "markdown",
   "metadata": {},
   "source": [
    "## Functions `list`, `tuple`, and `set` ##\n",
    "We have seen how to define collections - lists tuples and sets - already:"
   ]
  },
  {
   "cell_type": "code",
   "execution_count": 7,
   "metadata": {},
   "outputs": [],
   "source": [
    "my_list = [1, 1, 2, 3]\n",
    "my_tuple = (1, 1, 2, 3)\n",
    "my_dict = {\"a\" : 1 , \"b\" : 1 , \"c\" : 2, \"d\" : 3}"
   ]
  },
  {
   "cell_type": "markdown",
   "metadata": {},
   "source": [
    "The functions `list`, `tuple` and `set` allow us to define collections another way, by turning one sort into another. For example, let's turn a tuple into a list:"
   ]
  },
  {
   "cell_type": "code",
   "execution_count": 8,
   "metadata": {},
   "outputs": [
    {
     "data": {
      "text/plain": [
       "[1, 1, 2, 3]"
      ]
     },
     "execution_count": 8,
     "metadata": {},
     "output_type": "execute_result"
    }
   ],
   "source": [
    "new_list = list(my_tuple)\n",
    "new_list"
   ]
  },
  {
   "cell_type": "markdown",
   "metadata": {},
   "source": [
    "or vice-versa:"
   ]
  },
  {
   "cell_type": "code",
   "execution_count": 9,
   "metadata": {},
   "outputs": [
    {
     "data": {
      "text/plain": [
       "(1, 1, 2, 3)"
      ]
     },
     "execution_count": 9,
     "metadata": {},
     "output_type": "execute_result"
    }
   ],
   "source": [
    "new_tuple = tuple(my_list)\n",
    "new_tuple"
   ]
  },
  {
   "cell_type": "markdown",
   "metadata": {},
   "source": [
    "Turn a list into a set (and notice the duplicate entry is removed)"
   ]
  },
  {
   "cell_type": "code",
   "execution_count": 11,
   "metadata": {},
   "outputs": [
    {
     "data": {
      "text/plain": [
       "{1, 2, 3}"
      ]
     },
     "execution_count": 11,
     "metadata": {},
     "output_type": "execute_result"
    }
   ],
   "source": [
    "new_set = set(my_list)\n",
    "new_set"
   ]
  },
  {
   "cell_type": "markdown",
   "metadata": {},
   "source": [
    "These functions will work with other iterable objects (i.e. things you can iterate over). Let's try with a string (which is just a collection of characters after all):"
   ]
  },
  {
   "cell_type": "code",
   "execution_count": 2,
   "metadata": {},
   "outputs": [
    {
     "name": "stdout",
     "output_type": "stream",
     "text": [
      "['s', 'a', 'u', 'n', 'd', 'e', 'r', 's']\n",
      "('s', 'a', 'u', 'n', 'd', 'e', 'r', 's')\n",
      "{'e', 'n', 'r', 'u', 's', 'a', 'd'}\n"
     ]
    }
   ],
   "source": [
    "agent = \"saunders\"\n",
    "\n",
    "string_list = list(agent)\n",
    "print(string_list)\n",
    "\n",
    "string_tuple = tuple(agent)\n",
    "print(string_tuple)\n",
    "\n",
    "string_set = set(agent)\n",
    "print(string_set)"
   ]
  },
  {
   "cell_type": "markdown",
   "metadata": {
    "solution2": "hidden",
    "solution2_first": true
   },
   "source": [
    "### <span class=\"girk\">Ex 3.5</span> ###\n",
    "Given a string `words`, write code that creates a list of the unique characters in that string. \n",
    "\n",
    "For an extra challenge, create a dictionary where every key is a letter in the string, and each value is the number of occurences of that letter. E.g. the word \"salsas\" would produce the dictionary `{\"s\" : 3, \"a\" : 2, \"l\" : 1}`. *Hint:* the `count` function counts the number of occurrences in a string."
   ]
  },
  {
   "cell_type": "code",
   "execution_count": 9,
   "metadata": {
    "solution2": "hidden"
   },
   "outputs": [
    {
     "name": "stdout",
     "output_type": "stream",
     "text": [
      "['i', 'v', 'n', 'l', 'm', ' ', 'a', 's', 'o', 't']\n"
     ]
    },
    {
     "data": {
      "text/plain": [
       "{'i': 2,\n",
       " 'v': 1,\n",
       " 'n': 2,\n",
       " 'l': 1,\n",
       " 'm': 1,\n",
       " ' ': 1,\n",
       " 'a': 5,\n",
       " 's': 1,\n",
       " 'o': 1,\n",
       " 't': 1}"
      ]
     },
     "execution_count": 9,
     "metadata": {},
     "output_type": "execute_result"
    }
   ],
   "source": [
    "words = \"natalia simonava\"\n",
    "letter_list = list(set(words))\n",
    "print(letter_list)\n",
    "\n",
    "letter_dict = {}\n",
    "for letter in letter_list:\n",
    "    letter_dict[letter] = words.count(letter)\n",
    "letter_dict"
   ]
  },
  {
   "cell_type": "markdown",
   "metadata": {},
   "source": [
    "## Comprehensions ##\n",
    "As stated in the introduction, the intention with these tutorials is to explain the basic elements of Python to allow you to write code quickly, without having to invest in learning some of the more advanced language features. Comprehensions are one such advanced feature that we *are* going to consider, because:\n",
    "- they provide an elegant syntax which will spare you a lot of typing when solving common problems;\n",
    "- you will see them all the time in Python code examples, so it makes sense to understand them.\n",
    "\n",
    "Here is the motivation: an extremely common task is that of creating a list programmatically - let's take a list of fractions as an example:\n",
    "\n",
    "$\\left[\\frac{1}{1}, \\frac{1}{2}, \\frac{1}{3}, \\cdots, \\frac{1}{10}\\right]$.\n",
    "\n",
    "Using our knowledge we could code this like so:\n"
   ]
  },
  {
   "cell_type": "code",
   "execution_count": 5,
   "metadata": {},
   "outputs": [
    {
     "data": {
      "text/plain": [
       "[1.0,\n",
       " 0.5,\n",
       " 0.3333333333333333,\n",
       " 0.25,\n",
       " 0.2,\n",
       " 0.16666666666666666,\n",
       " 0.14285714285714285,\n",
       " 0.125,\n",
       " 0.1111111111111111,\n",
       " 0.1]"
      ]
     },
     "execution_count": 5,
     "metadata": {},
     "output_type": "execute_result"
    }
   ],
   "source": [
    "fractions = []\n",
    "for i in range(1, 11):\n",
    "    fractions.append(1 / i)\n",
    "fractions"
   ]
  },
  {
   "cell_type": "markdown",
   "metadata": {},
   "source": [
    "The code above takes an empty list, and uses a range of values. For each value in the range, it calculates something (a fraction in this case) and adds it to the list. This task is so common that Python provides a neat syntax for it, called a ***list comprehension***:"
   ]
  },
  {
   "cell_type": "code",
   "execution_count": 6,
   "metadata": {},
   "outputs": [
    {
     "data": {
      "text/plain": [
       "[1.0,\n",
       " 0.5,\n",
       " 0.3333333333333333,\n",
       " 0.25,\n",
       " 0.2,\n",
       " 0.16666666666666666,\n",
       " 0.14285714285714285,\n",
       " 0.125,\n",
       " 0.1111111111111111,\n",
       " 0.1]"
      ]
     },
     "execution_count": 6,
     "metadata": {},
     "output_type": "execute_result"
    }
   ],
   "source": [
    "fractions = [1 / x for x in range(1, 11)]\n",
    "fractions"
   ]
  },
  {
   "cell_type": "markdown",
   "metadata": {},
   "source": [
    "Here is another example: create a list of all the individual letters in a string:"
   ]
  },
  {
   "cell_type": "code",
   "execution_count": 55,
   "metadata": {},
   "outputs": [
    {
     "data": {
      "text/plain": [
       "['i',\n",
       " ' ',\n",
       " 'n',\n",
       " 'e',\n",
       " 'v',\n",
       " 'e',\n",
       " 'r',\n",
       " ' ',\n",
       " 'j',\n",
       " 'o',\n",
       " 'k',\n",
       " 'e',\n",
       " ' ',\n",
       " 'a',\n",
       " 'b',\n",
       " 'o',\n",
       " 'u',\n",
       " 't',\n",
       " ' ',\n",
       " 'm',\n",
       " 'y',\n",
       " ' ',\n",
       " 'w',\n",
       " 'o',\n",
       " 'r',\n",
       " 'k',\n",
       " ' ',\n",
       " '0',\n",
       " '0',\n",
       " '7']"
      ]
     },
     "execution_count": 55,
     "metadata": {},
     "output_type": "execute_result"
    }
   ],
   "source": [
    "letters = [l for l in \"i never joke about my work 007\"]\n",
    "letters"
   ]
  },
  {
   "cell_type": "markdown",
   "metadata": {},
   "source": [
    "We see that a list comprehension has the form:\n",
    "\n",
    "[*do something* with *VARIABLE* `for` VARIABLE `in` *OBJECT you can iterate over, e.g. list, range, string*].\n",
    "\n",
    "Here is another example that takes a list of words and produces a list of their lengths:"
   ]
  },
  {
   "cell_type": "code",
   "execution_count": 58,
   "metadata": {},
   "outputs": [
    {
     "data": {
      "text/plain": [
       "[7, 2, 4, 4, 1, 6, 3, 9, 5, 2]"
      ]
     },
     "execution_count": 58,
     "metadata": {},
     "output_type": "execute_result"
    }
   ],
   "source": [
    "quote = [\"Pistols\", \"at\", \"dawn\", \"it's\", \"a\", \"little\", \"old\", \"fashioned\", \"isn't\", \"it\"]\n",
    "[len(word) for word in quote]"
   ]
  },
  {
   "cell_type": "markdown",
   "metadata": {},
   "source": [
    "Suppose now we want to count words lengths again, but we want to ignore any instances of the words \"a\" and \"the\". Fortunately, Python allows you to add an if statement at the end of a list comprehension that will determine whether or not the element is included in the new list:"
   ]
  },
  {
   "cell_type": "code",
   "execution_count": 59,
   "metadata": {},
   "outputs": [
    {
     "data": {
      "text/plain": [
       "[3, 3, 2, 3]"
      ]
     },
     "execution_count": 59,
     "metadata": {},
     "output_type": "execute_result"
    }
   ],
   "source": [
    "quote = [\"a\", \"cat\", \"sat\", \"on\", \"the\", \"mat\"]\n",
    "[len(word) for word in quote if word != \"a\" and word != \"the\"]"
   ]
  },
  {
   "cell_type": "markdown",
   "metadata": {
    "solution2": "hidden",
    "solution2_first": true
   },
   "source": [
    "### <span class=\"girk\">Ex 3.6</span> ###\n",
    "Write a list comprehension that produces a list of the squares $x ^ 2$ for $x$ in $1, 2, 3, \\cdots, 100$, but only if $x ^ 2$ is a multiple of 3 and 5."
   ]
  },
  {
   "cell_type": "code",
   "execution_count": 62,
   "metadata": {
    "solution2": "hidden"
   },
   "outputs": [
    {
     "data": {
      "text/plain": [
       "[225, 900, 2025, 3600, 5625, 8100]"
      ]
     },
     "execution_count": 62,
     "metadata": {},
     "output_type": "execute_result"
    }
   ],
   "source": [
    "squares = [x ** 2 for x in range(1, 101) if (x ** 2) % 3 == 0 and (x ** 2) % 5 == 0]\n",
    "squares"
   ]
  },
  {
   "cell_type": "markdown",
   "metadata": {},
   "source": [
    "## Assiging variables and variable binding##\n",
    "Remember that we can assign variables to other variables, so we can create a variable `x` and then assign its value to `y`:"
   ]
  },
  {
   "cell_type": "code",
   "execution_count": 35,
   "metadata": {},
   "outputs": [],
   "source": [
    "x = 1\n",
    "y = x"
   ]
  },
  {
   "cell_type": "markdown",
   "metadata": {},
   "source": [
    "If we alter one, the other stays unchanged:"
   ]
  },
  {
   "cell_type": "code",
   "execution_count": 36,
   "metadata": {},
   "outputs": [
    {
     "name": "stdout",
     "output_type": "stream",
     "text": [
      "2 1\n"
     ]
    }
   ],
   "source": [
    "x += 1 # increment x: check y remains unchanged\n",
    "print(x, y)"
   ]
  },
  {
   "cell_type": "markdown",
   "metadata": {},
   "source": [
    "If you try the same thing with a list, something strange happens:"
   ]
  },
  {
   "cell_type": "code",
   "execution_count": 37,
   "metadata": {},
   "outputs": [
    {
     "name": "stdout",
     "output_type": "stream",
     "text": [
      "[] []\n"
     ]
    }
   ],
   "source": [
    "list_x = [1, 2, 3]\n",
    "list_y = list_x\n",
    "list_y.clear()\n",
    "print(list_x, list_y)"
   ]
  },
  {
   "cell_type": "markdown",
   "metadata": {},
   "source": [
    "Clearing `list_y` has had an effect on `list_x`! In fact the same will happen for any object that is mutable, e.g. a set:"
   ]
  },
  {
   "cell_type": "code",
   "execution_count": 38,
   "metadata": {},
   "outputs": [
    {
     "name": "stdout",
     "output_type": "stream",
     "text": [
      "{2, 3} {2, 3}\n"
     ]
    }
   ],
   "source": [
    "set_x = {1, 2, 3}\n",
    "set_y = set_x\n",
    "set_y.remove(1)\n",
    "print(set_x, set_y)"
   ]
  },
  {
   "cell_type": "markdown",
   "metadata": {},
   "source": [
    "This is because of the way assignment works in Python. \n",
    "\n",
    "What we actully are doing when entering `x = 1` is creating an association between the name `x` and the object `1`: we say that the object `1` is bound to `x`. Now when we do `y = x`, the variable `y` is also bound to whatever `x` is bound to (`1`). We ***do not copy*** `y` into `x`.\n",
    "\n",
    "When we increment `x` with `x += 1`, we don't alter the object that `x` is bound to (it's a number which is immutable); rather, `x` is reassigned to the object `2`. The picture below explains this."
   ]
  },
  {
   "cell_type": "markdown",
   "metadata": {},
   "source": [
    "Every object in Python has a unique ID. By checking this ID with the `id` function, we can show that when we perform assignment, the two variables refer to the same object, rather than a copy. Let's do this with strings:"
   ]
  },
  {
   "cell_type": "code",
   "execution_count": 39,
   "metadata": {},
   "outputs": [
    {
     "name": "stdout",
     "output_type": "stream",
     "text": [
      "140736851603200 140736851603200\n"
     ]
    }
   ],
   "source": [
    "x = \"abc\"\n",
    "x = y\n",
    "print(id(x), id(y))"
   ]
  },
  {
   "cell_type": "markdown",
   "metadata": {},
   "source": [
    "Now it's clear what happened with the lists: `list_x` and `list_y` actually both refer to the same object; we can check:"
   ]
  },
  {
   "cell_type": "code",
   "execution_count": 40,
   "metadata": {},
   "outputs": [
    {
     "name": "stdout",
     "output_type": "stream",
     "text": [
      "2184141071944 2184141071944\n"
     ]
    }
   ],
   "source": [
    "print(id(list_x), id(list_y))"
   ]
  },
  {
   "cell_type": "markdown",
   "metadata": {},
   "source": [
    "Since lists are mutable, any changes to `list_x` or `list_y` change a single underlying object. The picture below explains this."
   ]
  },
  {
   "cell_type": "markdown",
   "metadata": {},
   "source": [
    "So we see that:\n",
    "\n",
    "***assigning variables simply means binding them to an object; assigning one variable to another means that both will refer to the same underlying object.***"
   ]
  },
  {
   "cell_type": "markdown",
   "metadata": {},
   "source": [
    "## Altering things inside a function ##\n",
    "We have just seen that if we perform an assignment of the form  `x = y` then:\n",
    "- if `x` and `y` are mutable objects, any change in `x` is reflected in `y`;\n",
    "- if `x` and `y` are numbers, then alterations to `x` don't affect `y`.\n",
    "\n",
    "Similarly, we can think about how variables are changed when they are passed in to a function. The following function takes a value `number` and a list `list` and alters each one:"
   ]
  },
  {
   "cell_type": "code",
   "execution_count": 2,
   "metadata": {},
   "outputs": [],
   "source": [
    "def alter(number, list):\n",
    "    number += 1 # add one to number\n",
    "    list.append(1) # append a 1 to list"
   ]
  },
  {
   "cell_type": "markdown",
   "metadata": {},
   "source": [
    "Let's define some variables, and see how they look before and after passing them to our function:"
   ]
  },
  {
   "cell_type": "code",
   "execution_count": 3,
   "metadata": {},
   "outputs": [
    {
     "name": "stdout",
     "output_type": "stream",
     "text": [
      "before function\n",
      "0 []\n",
      "after function\n",
      "0 [1]\n"
     ]
    }
   ],
   "source": [
    "my_number = 0\n",
    "my_list = []\n",
    "\n",
    "print(\"before function\")\n",
    "print (my_number, my_list)\n",
    "alter(my_number, my_list)\n",
    "print(\"after function\")\n",
    "print(my_number, my_list)"
   ]
  },
  {
   "cell_type": "markdown",
   "metadata": {},
   "source": [
    "Just like earlier when we investigated assigning variables to each other, the number is left unchanged, but the list is altered.\n",
    "\n",
    "It's quite useful being able to pass an argument to a function and have the function alter it *in place*, rather than having to return a value. As an example, here is a function to swap a list containing two items:"
   ]
  },
  {
   "cell_type": "code",
   "execution_count": 8,
   "metadata": {},
   "outputs": [
    {
     "data": {
      "text/plain": [
       "[2, 1]"
      ]
     },
     "execution_count": 8,
     "metadata": {},
     "output_type": "execute_result"
    }
   ],
   "source": [
    "def swap(l):\n",
    "    l[0], l[1] = l[1], l[0]\n",
    "\n",
    "# testing\n",
    "l = [1,2]\n",
    "swap(l)\n",
    "l"
   ]
  }
 ],
 "metadata": {
  "kernelspec": {
   "display_name": "Python 3",
   "language": "python",
   "name": "python3"
  },
  "language_info": {
   "codemirror_mode": {
    "name": "ipython",
    "version": 3
   },
   "file_extension": ".py",
   "mimetype": "text/x-python",
   "name": "python",
   "nbconvert_exporter": "python",
   "pygments_lexer": "ipython3",
   "version": "3.7.0"
  },
  "toc": {
   "base_numbering": 1,
   "nav_menu": {},
   "number_sections": false,
   "sideBar": true,
   "skip_h1_title": false,
   "title_cell": "Table of Contents",
   "title_sidebar": "Contents",
   "toc_cell": false,
   "toc_position": {},
   "toc_section_display": true,
   "toc_window_display": true
  }
 },
 "nbformat": 4,
 "nbformat_minor": 2
}
