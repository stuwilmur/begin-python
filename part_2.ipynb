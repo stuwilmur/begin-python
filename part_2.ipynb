{
 "cells": [
  {
   "cell_type": "markdown",
   "metadata": {
    "slideshow": {
     "slide_type": "slide"
    }
   },
   "source": [
    "# Python part 2 #\n",
    "## Program flow control ##\n",
    "At the end of part 1 we learned how to\n",
    "- get programs to repeat sections with a ***loop*** - a `while` loop to be specific;\n",
    "- control the execution of sections of code, based on conditions being true/false using `if`, `elif` and `else`.\n",
    "\n",
    "Both `if` statements and `while` loops are methods of controlling the flow of your program. In this part we will explore some more ways of controlling program flow."
   ]
  },
  {
   "cell_type": "markdown",
   "metadata": {
    "slideshow": {
     "slide_type": "subslide"
    }
   },
   "source": [
    "## Recap: the `if` statement ##"
   ]
  },
  {
   "cell_type": "code",
   "execution_count": 1,
   "metadata": {
    "slideshow": {
     "slide_type": "fragment"
    }
   },
   "outputs": [
    {
     "name": "stdout",
     "output_type": "stream",
     "text": [
      "enter a number\n",
      "3\n",
      "positive\n"
     ]
    }
   ],
   "source": [
    "print(\"enter a number\")\n",
    "x = int(input()) # get number from user\n",
    "if x > 0:\n",
    "    print(\"positive\")"
   ]
  },
  {
   "cell_type": "markdown",
   "metadata": {
    "slideshow": {
     "slide_type": "fragment"
    }
   },
   "source": [
    "The `if` statement decides whether to print a message based on the result of the expression `x > 0`. This bit is called a logical expression, and can return either **true**, or **false**.\n",
    "\n",
    "### <font color = \"blue\">and, or & not</font> ###\n",
    "What about if we want to print a message if the number is positive and even? You can build an expression using the `and` keyword:"
   ]
  },
  {
   "cell_type": "code",
   "execution_count": 2,
   "metadata": {
    "slideshow": {
     "slide_type": "fragment"
    }
   },
   "outputs": [],
   "source": [
    "if x > 0 and x % 2 == 0:\n",
    "    print(\"positive even\")"
   ]
  },
  {
   "cell_type": "markdown",
   "metadata": {
    "slideshow": {
     "slide_type": "subslide"
    }
   },
   "source": [
    "There are two other keywords like `and`: they are `or` and `not`:"
   ]
  },
  {
   "cell_type": "code",
   "execution_count": 3,
   "metadata": {
    "scrolled": true,
    "slideshow": {
     "slide_type": "fragment"
    }
   },
   "outputs": [
    {
     "name": "stdout",
     "output_type": "stream",
     "text": [
      "not in range 10-20\n",
      "not in range 10-20\n"
     ]
    }
   ],
   "source": [
    "if x < 10 or x > 20:\n",
    "    print(\"not in range 10-20\")\n",
    "    \n",
    "## same as above, using and and not instead:\n",
    "if not(x >= 10 and x <= 20):\n",
    "    print(\"not in range 10-20\")"
   ]
  },
  {
   "cell_type": "markdown",
   "metadata": {
    "solution2": "hidden",
    "solution2_first": true
   },
   "source": [
    "### <span class=\"girk\">Ex 2.1</span> ###\n",
    "A theme park ride allows three riders in the left, middle and right seats of a car, but only if some rules are satisfied:\n",
    "- the total weight in each car must not exceed 300Kg;\n",
    "- The weight of an outside rider must not exceed the weight of the other two.\n",
    "\n",
    "Write some code that takes three weights `w_left`, `w_right` and `w_middle` and prints whether or not the riders are allowed."
   ]
  },
  {
   "cell_type": "code",
   "execution_count": null,
   "metadata": {
    "solution2": "hidden"
   },
   "outputs": [],
   "source": []
  },
  {
   "cell_type": "markdown",
   "metadata": {
    "solution2": "hidden",
    "solution2_first": true
   },
   "source": [
    "### <span class=\"girk\">Ex 2.2</span> ###\n",
    "\n",
    "- If the year can be evenly divided by 4 then it may be a leap year;\n",
    "- if the year can be evenly divided by 100, it is NOT a leap year, unless;\n",
    "- the year is also evenly divisible by 400. Then it is a leap year.\n",
    "\n",
    "Write code that takes a year `year` and returns whether or not it is a leap year. Test it with some values.\n"
   ]
  },
  {
   "cell_type": "code",
   "execution_count": 6,
   "metadata": {
    "solution2": "hidden"
   },
   "outputs": [
    {
     "data": {
      "text/plain": [
       "False"
      ]
     },
     "execution_count": 6,
     "metadata": {},
     "output_type": "execute_result"
    }
   ],
   "source": [
    "year = 2019\n",
    "year % 400 == 0 or (year % 4 == 0 and year % 100 != 0)"
   ]
  },
  {
   "cell_type": "markdown",
   "metadata": {
    "slideshow": {
     "slide_type": "subslide"
    }
   },
   "source": [
    "### Recap: the `while` loop ###\n",
    "Example: take a list of strings and print each string together with its length."
   ]
  },
  {
   "cell_type": "code",
   "execution_count": 4,
   "metadata": {
    "slideshow": {
     "slide_type": "fragment"
    }
   },
   "outputs": [],
   "source": [
    "# the list of strings we will work with\n",
    "strings = [\"Drax\", \"Zorin\", \"Goldfinger\"] # the list of strings"
   ]
  },
  {
   "cell_type": "code",
   "execution_count": 5,
   "metadata": {
    "slideshow": {
     "slide_type": "fragment"
    }
   },
   "outputs": [
    {
     "name": "stdout",
     "output_type": "stream",
     "text": [
      "Drax 4\n",
      "Zorin 5\n",
      "Goldfinger 10\n"
     ]
    }
   ],
   "source": [
    "i = 0 # 1: an index that will be incremented each time\n",
    "while (i < len(strings)): # 2\n",
    "    print(strings[i], len(strings[i])) # 3\n",
    "    i = i + 1 # 4: increment the index "
   ]
  },
  {
   "cell_type": "markdown",
   "metadata": {
    "slideshow": {
     "slide_type": "subslide"
    }
   },
   "source": [
    "### Making life easier: Increment/decrement operators ###\n",
    "### <font color = \"blue\"> +=, -=, *= , /= </font> ###\n",
    "Remember the line `i = i + 1` from the previous example? We can combine the sum and assignment in a single operation:"
   ]
  },
  {
   "cell_type": "code",
   "execution_count": 6,
   "metadata": {
    "slideshow": {
     "slide_type": "fragment"
    }
   },
   "outputs": [
    {
     "name": "stdout",
     "output_type": "stream",
     "text": [
      "3\n"
     ]
    }
   ],
   "source": [
    "i = 2\n",
    "i += 1\n",
    "print(i)"
   ]
  },
  {
   "cell_type": "markdown",
   "metadata": {
    "slideshow": {
     "slide_type": "fragment"
    }
   },
   "source": [
    "You can also do this sort of combined operation with `-`, `*` and `/`:"
   ]
  },
  {
   "cell_type": "code",
   "execution_count": 7,
   "metadata": {
    "slideshow": {
     "slide_type": "fragment"
    }
   },
   "outputs": [
    {
     "name": "stdout",
     "output_type": "stream",
     "text": [
      "-3.5\n"
     ]
    }
   ],
   "source": [
    "i = 4\n",
    "i -= 6 # =-2\n",
    "i *= 7 # -14\n",
    "i /= 4 # -3.5\n",
    "print (i)"
   ]
  },
  {
   "cell_type": "markdown",
   "metadata": {
    "slideshow": {
     "slide_type": "subslide"
    }
   },
   "source": [
    "### Improving on the `while` loop ###\n",
    "The previous `while` was an example of a common programming task: iterating over some sort of collection (e.g. a list or a string) and doing something with each item. The `while` loop is fine for this but requires some housekeeping:\n",
    "- using an index variable - we used `i`;\n",
    "- checking `i` doesn't go off the end of the list;\n",
    "- incrementing `i`.\n",
    "\n",
    "If we use a `for` loop Python will do all this for us."
   ]
  },
  {
   "cell_type": "markdown",
   "metadata": {
    "slideshow": {
     "slide_type": "fragment"
    }
   },
   "source": [
    "### <font color = \"blue\"> for </font> ###\n",
    "Here are the same code in two lines using a `for` loop:"
   ]
  },
  {
   "cell_type": "code",
   "execution_count": 8,
   "metadata": {
    "slideshow": {
     "slide_type": "fragment"
    }
   },
   "outputs": [
    {
     "name": "stdout",
     "output_type": "stream",
     "text": [
      "Drax 4\n",
      "Zorin 5\n",
      "Goldfinger 10\n"
     ]
    }
   ],
   "source": [
    "for word in strings: # 1\n",
    "    print(word, len(word)) # 2"
   ]
  },
  {
   "cell_type": "markdown",
   "metadata": {
    "slideshow": {
     "slide_type": "subslide"
    }
   },
   "source": [
    "The `for` loop works with strings as well (in fact just about any collection of items in Python): it goes through each letter in turn. Think of it as *`for` each letter in string*:"
   ]
  },
  {
   "cell_type": "code",
   "execution_count": 9,
   "metadata": {
    "slideshow": {
     "slide_type": "fragment"
    }
   },
   "outputs": [
    {
     "name": "stdout",
     "output_type": "stream",
     "text": [
      "D\n",
      "r\n",
      "a\n",
      "x\n"
     ]
    }
   ],
   "source": [
    "for w in strings[0]:\n",
    "    print(w)"
   ]
  },
  {
   "cell_type": "markdown",
   "metadata": {
    "slideshow": {
     "slide_type": "subslide"
    }
   },
   "source": [
    "### Using `for` with `range` ###\n",
    "### <font color = \"blue\"> range </font> ###\n",
    "We often need to iterate over a sequence of numbers. The `range` function generates such a sequence, and we can iterate over these numbers using `for`:"
   ]
  },
  {
   "cell_type": "code",
   "execution_count": 10,
   "metadata": {
    "slideshow": {
     "slide_type": "fragment"
    }
   },
   "outputs": [
    {
     "name": "stdout",
     "output_type": "stream",
     "text": [
      "0\n",
      "1\n",
      "2\n",
      "3\n",
      "4\n"
     ]
    }
   ],
   "source": [
    "for i in range(5): # go up to 4\n",
    "    print(i)"
   ]
  },
  {
   "cell_type": "markdown",
   "metadata": {
    "slideshow": {
     "slide_type": "fragment"
    }
   },
   "source": [
    "Using the statement `range(end)` gives a range of integers that:\n",
    "- starts at 0\n",
    "- ends at end - 1\n",
    "\n",
    "What if we want to start from a number other than zero? We can use `range(start, end)` to specify a **start** and **end** value:"
   ]
  },
  {
   "cell_type": "code",
   "execution_count": 11,
   "metadata": {
    "slideshow": {
     "slide_type": "fragment"
    }
   },
   "outputs": [
    {
     "name": "stdout",
     "output_type": "stream",
     "text": [
      "5\n",
      "6\n",
      "7\n",
      "8\n",
      "9\n"
     ]
    }
   ],
   "source": [
    "for i in range(5,10): # start at 5, go up to 9\n",
    "    print(i)"
   ]
  },
  {
   "cell_type": "markdown",
   "metadata": {
    "slideshow": {
     "slide_type": "subslide"
    }
   },
   "source": [
    "Finally, we sometimes need the difference between consecutive values to be something other than one. Use `range(start, end, increment)` to specify an increment, i.e. difference between each value:"
   ]
  },
  {
   "cell_type": "code",
   "execution_count": 12,
   "metadata": {
    "slideshow": {
     "slide_type": "fragment"
    }
   },
   "outputs": [
    {
     "name": "stdout",
     "output_type": "stream",
     "text": [
      "1\n",
      "3\n",
      "5\n",
      "7\n",
      "9\n"
     ]
    }
   ],
   "source": [
    "for i in range(1, 10, 2): # start at 1, go up to 9, increment of 2\n",
    "    print(i)"
   ]
  },
  {
   "cell_type": "markdown",
   "metadata": {},
   "source": [
    "The last range produces odd numbers. What if we change the end value of this range to `range(1,11,2)`? Now the end value is 10, but this isn't one of the numbers that will be produced by the range as it's even. Does the range stop short or go past it?"
   ]
  },
  {
   "cell_type": "code",
   "execution_count": 13,
   "metadata": {},
   "outputs": [
    {
     "name": "stdout",
     "output_type": "stream",
     "text": [
      "1\n",
      "3\n",
      "5\n",
      "7\n",
      "9\n"
     ]
    }
   ],
   "source": [
    "for i in range(1, 11, 2): # start at 1, go up to 10, increment of 2\n",
    "    print(i)"
   ]
  },
  {
   "cell_type": "markdown",
   "metadata": {},
   "source": [
    "We see that the range always stops short. You just have to remember that the range always ***goes up to but never past*** the end value. "
   ]
  },
  {
   "cell_type": "markdown",
   "metadata": {
    "solution2": "hidden",
    "solution2_first": true
   },
   "source": [
    "### <span class=\"girk\">Ex 2.3</span> ###\n",
    "Write a `for` loop that counts *down* and prints the numbers from 30 to zero in multiples of 3. *Hint*: increments can be positive and negative."
   ]
  },
  {
   "cell_type": "code",
   "execution_count": 8,
   "metadata": {
    "solution2": "hidden"
   },
   "outputs": [
    {
     "name": "stdout",
     "output_type": "stream",
     "text": [
      "30\n",
      "27\n",
      "24\n",
      "21\n",
      "18\n",
      "15\n",
      "12\n",
      "9\n",
      "6\n",
      "3\n",
      "0\n"
     ]
    }
   ],
   "source": [
    "for i in range(30, -1, -3):\n",
    "    print(i)"
   ]
  },
  {
   "cell_type": "markdown",
   "metadata": {},
   "source": [
    "Ranges become useful when we start using them with other code: let's print every third letter in a string:"
   ]
  },
  {
   "cell_type": "code",
   "execution_count": 14,
   "metadata": {
    "slideshow": {
     "slide_type": "fragment"
    }
   },
   "outputs": [
    {
     "name": "stdout",
     "output_type": "stream",
     "text": [
      "hello there\n",
      "how are you?"
     ]
    }
   ],
   "source": [
    "code = \"\"\"hi8ewhl ila#o7) 4ht ohaee arueegf\n",
    "u7h8yoyaw & *aa7&r%%egf oiy.,o@@umn?><\"\"\"\n",
    "for w in range(0,len(code),3):\n",
    "    print(code[w],end=\"\")"
   ]
  },
  {
   "cell_type": "markdown",
   "metadata": {
    "slideshow": {
     "slide_type": "subslide"
    }
   },
   "source": [
    "There is a litte hidden extra in the example. By default every call to `print` adds a new line: we can instead specify what should follow each use of `print` using the argument `end=`. This is handy for forcing single-line output:"
   ]
  },
  {
   "cell_type": "markdown",
   "metadata": {
    "slideshow": {
     "slide_type": "subslide"
    }
   },
   "source": [
    "### Exiting a loop with `break` ###\n",
    "### <font color = \"blue\">break</font> ###\n",
    "Use `break` to \"break out of\" a loop. This is useful when we are trying to loop until some condition is met and we no longer need to continue. Let's writs a loop to find a letter in a string. We will:\n",
    "- loop over each letter\n",
    "- for each letter, check if it matches the sought letter\n",
    "- if so, print a message and stop the loop using `break`."
   ]
  },
  {
   "cell_type": "code",
   "execution_count": 15,
   "metadata": {},
   "outputs": [
    {
     "name": "stdout",
     "output_type": "stream",
     "text": [
      "found letter p\n"
     ]
    }
   ],
   "source": [
    "string = \"No Mr Bond, I expect you to die!\"\n",
    "sought = \"p\"\n",
    "for letter in string:\n",
    "    if letter == sought:\n",
    "        print(f\"found letter {sought}\")\n",
    "        break"
   ]
  },
  {
   "cell_type": "markdown",
   "metadata": {},
   "source": [
    "Here is a more useful example: find a number's smallest divisor by testing possible factors until we find one:"
   ]
  },
  {
   "cell_type": "code",
   "execution_count": 16,
   "metadata": {
    "slideshow": {
     "slide_type": "fragment"
    }
   },
   "outputs": [
    {
     "name": "stdout",
     "output_type": "stream",
     "text": [
      "31\n"
     ]
    }
   ],
   "source": [
    "n = 1457\n",
    "i = 2\n",
    "while(i <= n):\n",
    "    if n % i == 0:\n",
    "        print(i)\n",
    "        break;\n",
    "    i+= 1\n",
    "        "
   ]
  },
  {
   "cell_type": "markdown",
   "metadata": {
    "slideshow": {
     "slide_type": "subslide"
    }
   },
   "source": [
    "### Skipping the rest of the loop with continue ###\n",
    "### <font color = \"blue\"> continue </font> ###\n",
    "The `continue` statement causes the rest of the code in a loop to be ignored, and the loop moves on to the next iteration:"
   ]
  },
  {
   "cell_type": "code",
   "execution_count": 17,
   "metadata": {
    "slideshow": {
     "slide_type": "fragment"
    }
   },
   "outputs": [
    {
     "name": "stdout",
     "output_type": "stream",
     "text": [
      "1 is an odd number\n",
      "3 is an odd number\n",
      "5 is an odd number\n",
      "7 is an odd number\n",
      "9 is an odd number\n"
     ]
    }
   ],
   "source": [
    "for i in range(10):\n",
    "    if i % 2 == 0:\n",
    "        continue\n",
    "    print(i, \"is an odd number\")"
   ]
  },
  {
   "cell_type": "markdown",
   "metadata": {
    "slideshow": {
     "slide_type": "fragment"
    }
   },
   "source": [
    "Of course, you could achieve the above just as well with an `if` statement."
   ]
  },
  {
   "cell_type": "markdown",
   "metadata": {
    "solution2": "hidden",
    "solution2_first": true
   },
   "source": [
    "### <span class=\"girk\">Ex 2.4</span> ###\n",
    "The $n$-th triangular $T_n$ number is simply the sum of the integers from 1 to $n$, e.g.\n",
    "- $T_1 = 1$\n",
    "- $T_2 = 1 + 2 = 3$\n",
    "- $T_3 = 1 + 2 + 3 = 6$\n",
    "- $T_n = 1 + 2 + \\cdots + n$\n",
    "\n",
    "Write a loop that:\n",
    "- calculates and prints the first 20 triangular numbers;"
   ]
  },
  {
   "cell_type": "code",
   "execution_count": 9,
   "metadata": {
    "solution2": "hidden"
   },
   "outputs": [
    {
     "name": "stdout",
     "output_type": "stream",
     "text": [
      "1\n",
      "3\n",
      "6\n",
      "10\n",
      "15\n",
      "21\n",
      "28\n",
      "36\n",
      "45\n",
      "55\n",
      "66\n",
      "78\n",
      "91\n",
      "105\n",
      "120\n",
      "136\n",
      "153\n",
      "171\n",
      "190\n",
      "210\n"
     ]
    }
   ],
   "source": [
    "t = 0\n",
    "for i in range(1, 21):\n",
    "    t += i\n",
    "    print (t)"
   ]
  },
  {
   "cell_type": "markdown",
   "metadata": {
    "solution2": "hidden",
    "solution2_first": true
   },
   "source": [
    "### <span class=\"girk\">Ex 2.5</span> ###\n",
    "Modify your last loop to loop through the first 200 triangular numbers. Use it to find the first triangular number that is $> 1000$, even, and a multiple of $37$."
   ]
  },
  {
   "cell_type": "code",
   "execution_count": 10,
   "metadata": {
    "solution2": "hidden"
   },
   "outputs": [
    {
     "name": "stdout",
     "output_type": "stream",
     "text": [
      "6216\n"
     ]
    }
   ],
   "source": [
    "t = 0\n",
    "for i in range(1, 201):\n",
    "    t += i\n",
    "    if t > 1000 and t % 2 == 0 and t % 37 == 0:\n",
    "        print(t)\n",
    "        break"
   ]
  },
  {
   "cell_type": "markdown",
   "metadata": {
    "slideshow": {
     "slide_type": "subslide"
    }
   },
   "source": [
    "### Loops within loops: nested loops ###\n",
    "You can get a loop to run ***within*** a single pass of another loop. Let's print some times-tables of $a\\times b$ using an outer loop for $a$, and for each step of $a$ loop over values of $b$."
   ]
  },
  {
   "cell_type": "code",
   "execution_count": 18,
   "metadata": {
    "scrolled": true,
    "slideshow": {
     "slide_type": "-"
    }
   },
   "outputs": [
    {
     "name": "stdout",
     "output_type": "stream",
     "text": [
      "1 \tx\t 1 \t= 1\n",
      "1 \tx\t 2 \t= 2\n",
      "1 \tx\t 3 \t= 3\n",
      "1 \tx\t 4 \t= 4\n",
      "1 \tx\t 5 \t= 5\n",
      "2 \tx\t 1 \t= 2\n",
      "2 \tx\t 2 \t= 4\n",
      "2 \tx\t 3 \t= 6\n",
      "2 \tx\t 4 \t= 8\n",
      "2 \tx\t 5 \t= 10\n",
      "3 \tx\t 1 \t= 3\n",
      "3 \tx\t 2 \t= 6\n",
      "3 \tx\t 3 \t= 9\n",
      "3 \tx\t 4 \t= 12\n",
      "3 \tx\t 5 \t= 15\n",
      "4 \tx\t 1 \t= 4\n",
      "4 \tx\t 2 \t= 8\n",
      "4 \tx\t 3 \t= 12\n",
      "4 \tx\t 4 \t= 16\n",
      "4 \tx\t 5 \t= 20\n",
      "5 \tx\t 1 \t= 5\n",
      "5 \tx\t 2 \t= 10\n",
      "5 \tx\t 3 \t= 15\n",
      "5 \tx\t 4 \t= 20\n",
      "5 \tx\t 5 \t= 25\n"
     ]
    }
   ],
   "source": [
    "for a in range(1,6):\n",
    "    for b in range(1,6):\n",
    "        print(a, \"\\tx\\t\", b, \"\\t=\", a*b)"
   ]
  },
  {
   "cell_type": "markdown",
   "metadata": {
    "slideshow": {
     "slide_type": "subslide"
    }
   },
   "source": [
    "The indenting tells you exactly which code belongs to which loop: code in the first level of indenting belongs to the outer loop and is executed every time $a$ is incremented: code in the second level of indenting belongs to the inner loop, and is executed every time $b$ is incremented. Here this is made clear:"
   ]
  },
  {
   "cell_type": "code",
   "execution_count": 19,
   "metadata": {
    "scrolled": true,
    "slideshow": {
     "slide_type": "subslide"
    }
   },
   "outputs": [
    {
     "name": "stdout",
     "output_type": "stream",
     "text": [
      "a is 1\n",
      "1 \tx\t 1 \t= 1\n",
      "1 \tx\t 2 \t= 2\n",
      "1 \tx\t 3 \t= 3\n",
      "1 \tx\t 4 \t= 4\n",
      "1 \tx\t 5 \t= 5\n",
      "1 \tx\t 6 \t= 6\n",
      "1 \tx\t 7 \t= 7\n",
      "1 \tx\t 8 \t= 8\n",
      "1 \tx\t 9 \t= 9\n",
      "1 \tx\t 10 \t= 10\n",
      "b'finished' 1 times-table\n",
      "\n",
      "a is 2\n",
      "2 \tx\t 1 \t= 2\n",
      "2 \tx\t 2 \t= 4\n",
      "2 \tx\t 3 \t= 6\n",
      "2 \tx\t 4 \t= 8\n",
      "2 \tx\t 5 \t= 10\n",
      "2 \tx\t 6 \t= 12\n",
      "2 \tx\t 7 \t= 14\n",
      "2 \tx\t 8 \t= 16\n",
      "2 \tx\t 9 \t= 18\n",
      "2 \tx\t 10 \t= 20\n",
      "b'finished' 2 times-table\n",
      "\n",
      "a is 3\n",
      "3 \tx\t 1 \t= 3\n",
      "3 \tx\t 2 \t= 6\n",
      "3 \tx\t 3 \t= 9\n",
      "3 \tx\t 4 \t= 12\n",
      "3 \tx\t 5 \t= 15\n",
      "3 \tx\t 6 \t= 18\n",
      "3 \tx\t 7 \t= 21\n",
      "3 \tx\t 8 \t= 24\n",
      "3 \tx\t 9 \t= 27\n",
      "3 \tx\t 10 \t= 30\n",
      "b'finished' 3 times-table\n",
      "\n",
      "a is 4\n",
      "4 \tx\t 1 \t= 4\n",
      "4 \tx\t 2 \t= 8\n",
      "4 \tx\t 3 \t= 12\n",
      "4 \tx\t 4 \t= 16\n",
      "4 \tx\t 5 \t= 20\n",
      "4 \tx\t 6 \t= 24\n",
      "4 \tx\t 7 \t= 28\n",
      "4 \tx\t 8 \t= 32\n",
      "4 \tx\t 9 \t= 36\n",
      "4 \tx\t 10 \t= 40\n",
      "b'finished' 4 times-table\n",
      "\n",
      "a is 5\n",
      "5 \tx\t 1 \t= 5\n",
      "5 \tx\t 2 \t= 10\n",
      "5 \tx\t 3 \t= 15\n",
      "5 \tx\t 4 \t= 20\n",
      "5 \tx\t 5 \t= 25\n",
      "5 \tx\t 6 \t= 30\n",
      "5 \tx\t 7 \t= 35\n",
      "5 \tx\t 8 \t= 40\n",
      "5 \tx\t 9 \t= 45\n",
      "5 \tx\t 10 \t= 50\n",
      "b'finished' 5 times-table\n",
      "\n"
     ]
    }
   ],
   "source": [
    "for a in range(1,6):\n",
    "    \n",
    "    #OUTER loop code\n",
    "    print(\"a is\",a) # runs 10 times\n",
    "    for b in range(1,11):\n",
    "    \n",
    "        # INNER loop code\n",
    "        print(a, \"\\tx\\t\", b, \"\\t=\", a*b) # runs 10 x 10 times\n",
    "        \n",
    "    # some more OUTER loop code - because it lines up with the OUTER indenting\n",
    "    print (b\"finished\",a,\"times-table\\n\")\n",
    "    "
   ]
  },
  {
   "cell_type": "markdown",
   "metadata": {
    "solution2": "hidden",
    "solution2_first": true
   },
   "source": [
    "### <span class=\"girk\">Ex 2.6</span> ###\n",
    "Write some code that counts the number of occurrences of the letter \"a\" for each string in a list of strings `strings`. Test your code using the following list:"
   ]
  },
  {
   "cell_type": "code",
   "execution_count": 15,
   "metadata": {
    "solution2": "hidden"
   },
   "outputs": [
    {
     "name": "stdout",
     "output_type": "stream",
     "text": [
      "3\n",
      "3\n",
      "2\n"
     ]
    }
   ],
   "source": [
    "for string in strings:\n",
    "    count = 0\n",
    "    for letter in string:\n",
    "        if letter == \"a\":\n",
    "            count += 1\n",
    "    print(count)"
   ]
  },
  {
   "cell_type": "code",
   "execution_count": 12,
   "metadata": {},
   "outputs": [],
   "source": [
    "strings = [\n",
    "    \"Hey Eric, we'll have a drink at the finish!\",\n",
    "    \"Bad accident back there\", \n",
    "    \"Names is for tombstones Baby\"\n",
    "            ]"
   ]
  },
  {
   "cell_type": "markdown",
   "metadata": {
    "slideshow": {
     "slide_type": "slide"
    }
   },
   "source": [
    "# Functions #\n",
    "- Remember our snippet of code that finds the smallest divisor of a number\n",
    "- Tedious to retype it every time it is needed\n",
    "- Instead; write a ***function***: a named section of code that performs a task"
   ]
  },
  {
   "cell_type": "code",
   "execution_count": 20,
   "metadata": {
    "slideshow": {
     "slide_type": "fragment"
    }
   },
   "outputs": [],
   "source": [
    "def divisor(n):\n",
    "    i = 2\n",
    "    while(i <= n):\n",
    "        if n % i == 0:\n",
    "            print(i)\n",
    "            break;\n",
    "        i+= 1"
   ]
  },
  {
   "cell_type": "markdown",
   "metadata": {
    "slideshow": {
     "slide_type": "fragment"
    }
   },
   "source": [
    "- we use it by calling its name and passing in the value of n:\n",
    "- now we can use it as often as needed"
   ]
  },
  {
   "cell_type": "code",
   "execution_count": 21,
   "metadata": {
    "slideshow": {
     "slide_type": "fragment"
    }
   },
   "outputs": [
    {
     "name": "stdout",
     "output_type": "stream",
     "text": [
      "5\n",
      "2\n",
      "37\n"
     ]
    }
   ],
   "source": [
    "divisor(35)\n",
    "divisor(36)\n",
    "divisor(37)"
   ]
  },
  {
   "cell_type": "markdown",
   "metadata": {},
   "source": [
    "### Defining functions with <font color = \"blue\"> def </font> ###\n",
    "- We've seen several functions already: **`print`**, **`help`**, **`range`** are all functions. We define our own function using the `def` keyword and the name of the function: let's define a simple function to print a greeting."
   ]
  },
  {
   "cell_type": "code",
   "execution_count": 34,
   "metadata": {},
   "outputs": [],
   "source": [
    "def greeting():\n",
    "    print(\"hello\")"
   ]
  },
  {
   "cell_type": "markdown",
   "metadata": {},
   "source": [
    "There are a couple of things to notice:\n",
    "- the name is followed by brackets - more on this in a moment;\n",
    "- the brackets are followed by a colon;\n",
    "- the *body* of the function (the code that does the work) is indented.\n",
    "\n",
    "The indenting helps us see what code belongs to the function. Here we define another simple function and then \"call\" the function from the rest of the program:"
   ]
  },
  {
   "cell_type": "code",
   "execution_count": 35,
   "metadata": {
    "scrolled": true
   },
   "outputs": [
    {
     "name": "stdout",
     "output_type": "stream",
     "text": [
      "goodbye\n",
      "goodbye\n"
     ]
    }
   ],
   "source": [
    "def ending():\n",
    "    # THIS BIT IS FUNCTION CODE\n",
    "    print(\"goodbye\")\n",
    "    \n",
    "# THIS BIT IS PART OF YOUR PROGRAM\n",
    "ending()\n",
    "ending()"
   ]
  },
  {
   "cell_type": "markdown",
   "metadata": {},
   "source": [
    "### Arguments ###\n",
    "These are nothing to do with having a disagreement! An argument is a special variable that you can *pass into a function*. As an example, consider the formula for converting Fahrenheit to Celsius:\n",
    "\n",
    "$C = (F - 32) \\div 1.8$\n",
    "\n",
    "Let's write a function to take a temperature in F and output in Celsius:"
   ]
  },
  {
   "cell_type": "code",
   "execution_count": 38,
   "metadata": {},
   "outputs": [],
   "source": [
    "def f_to_c(f): # f is the argument\n",
    "    c = (f - 32) / 1.8\n",
    "    print(c)"
   ]
  },
  {
   "cell_type": "markdown",
   "metadata": {},
   "source": [
    "The variable `f` defined in the brackets is the *argument*. We can use this variable anywhere within the function. When we call the function, we supply a value for this variable:\n"
   ]
  },
  {
   "cell_type": "code",
   "execution_count": 40,
   "metadata": {
    "scrolled": true
   },
   "outputs": [
    {
     "name": "stdout",
     "output_type": "stream",
     "text": [
      "32.22222222222222\n",
      "32.22222222222222\n"
     ]
    }
   ],
   "source": [
    "f_to_c(90) # call the function by passing a value\n",
    "\n",
    "temp = 90 # declare variable\n",
    "\n",
    "f_to_c(temp) # exactly the same by passing a variable"
   ]
  },
  {
   "cell_type": "markdown",
   "metadata": {
    "solution2": "hidden",
    "solution2_first": true
   },
   "source": [
    "### <span class=\"girk\">Ex 2.7</span> ###\n",
    "Write a function that prints the product of all the numbers in a list."
   ]
  },
  {
   "cell_type": "code",
   "execution_count": 17,
   "metadata": {
    "solution2": "hidden"
   },
   "outputs": [],
   "source": [
    "def product(numbers):\n",
    "    multiple = 1\n",
    "    for num in numbers:\n",
    "        multiple *= num\n",
    "    print(multiple)"
   ]
  },
  {
   "cell_type": "markdown",
   "metadata": {
    "slideshow": {
     "slide_type": "subslide"
    }
   },
   "source": [
    "## Return value ##\n",
    "### <font color = \"blue\"> return </font> ###\n",
    "- Functions can *return* a value that we can use: rewrite our function to return a value rather than printing it:"
   ]
  },
  {
   "cell_type": "code",
   "execution_count": 41,
   "metadata": {
    "slideshow": {
     "slide_type": "fragment"
    }
   },
   "outputs": [],
   "source": [
    "def f_to_c(f):\n",
    "    c = (f - 32) / 1.8\n",
    "    return(c) # c is the return value"
   ]
  },
  {
   "cell_type": "markdown",
   "metadata": {},
   "source": [
    "Now we get the result of the conversion back from the function:"
   ]
  },
  {
   "cell_type": "code",
   "execution_count": 43,
   "metadata": {},
   "outputs": [
    {
     "data": {
      "text/plain": [
       "32.22222222222222"
      ]
     },
     "execution_count": 43,
     "metadata": {},
     "output_type": "execute_result"
    }
   ],
   "source": [
    "f_to_c(90)"
   ]
  },
  {
   "cell_type": "markdown",
   "metadata": {
    "slideshow": {
     "slide_type": "subslide"
    }
   },
   "source": [
    "## Multiple, named and default arguments ##\n",
    "Functions can have any number of arguments:"
   ]
  },
  {
   "cell_type": "code",
   "execution_count": 44,
   "metadata": {},
   "outputs": [],
   "source": [
    "def contact_details(name, office, id):\n",
    "    print(\"name:\\t\" + name \n",
    "          + \"\\noffice:\\t\" + office \n",
    "          + \"\\nid:\\t\" + id)"
   ]
  },
  {
   "cell_type": "markdown",
   "metadata": {},
   "source": [
    "### <font color = \"blue\"> Named arguments </font> ###\n",
    "You can call a function using the arguments' names"
   ]
  },
  {
   "cell_type": "code",
   "execution_count": 45,
   "metadata": {},
   "outputs": [
    {
     "name": "stdout",
     "output_type": "stream",
     "text": [
      "name:\ts murray\n",
      "office:\t321\n",
      "id:\tswm6\n"
     ]
    }
   ],
   "source": [
    "contact_details(name = \"s murray\", \n",
    "                office = \"321\", \n",
    "                id = \"swm6\")"
   ]
  },
  {
   "cell_type": "markdown",
   "metadata": {
    "slideshow": {
     "slide_type": "fragment"
    }
   },
   "source": [
    "...which is nice as it means the order doesn't matter; you still get the same result:"
   ]
  },
  {
   "cell_type": "code",
   "execution_count": 24,
   "metadata": {},
   "outputs": [
    {
     "name": "stdout",
     "output_type": "stream",
     "text": [
      "name:\ts murray\n",
      "office:\t321\n",
      "id:\tswm6\n"
     ]
    }
   ],
   "source": [
    "contact_details(id = \"swm6\", \n",
    "                office = \"321\",  \n",
    "                name = \"s murray\")"
   ]
  },
  {
   "cell_type": "markdown",
   "metadata": {},
   "source": [
    "### <font color = \"blue\"> Default arguments </font> ###\n",
    "Default arguments allow your function to be used without supplying each and every argument: just add the default values to the argument list."
   ]
  },
  {
   "cell_type": "code",
   "execution_count": 25,
   "metadata": {},
   "outputs": [],
   "source": [
    "def bmi(mass, height, imperial=False):\n",
    "    if imperial:\n",
    "        return mass / height ** 2 * 703\n",
    "    else:\n",
    "        return mass / height ** 2"
   ]
  },
  {
   "cell_type": "markdown",
   "metadata": {},
   "source": [
    "Now we can call the function without the optional argument:"
   ]
  },
  {
   "cell_type": "code",
   "execution_count": 26,
   "metadata": {},
   "outputs": [
    {
     "data": {
      "text/plain": [
       "21.604938271604937"
      ]
     },
     "execution_count": 26,
     "metadata": {},
     "output_type": "execute_result"
    }
   ],
   "source": [
    "bmi(70, 1.8)"
   ]
  },
  {
   "cell_type": "markdown",
   "metadata": {},
   "source": [
    "or with:"
   ]
  },
  {
   "cell_type": "code",
   "execution_count": 53,
   "metadata": {},
   "outputs": [
    {
     "data": {
      "text/plain": [
       "21.60294483870529"
      ]
     },
     "execution_count": 53,
     "metadata": {},
     "output_type": "execute_result"
    }
   ],
   "source": [
    "bmi(154.324, 70.866, True)"
   ]
  },
  {
   "cell_type": "markdown",
   "metadata": {
    "solution2": "hidden",
    "solution2_first": true
   },
   "source": [
    "### <span class=\"girk\">Ex 2.8</span> ###\n",
    "Write a function `maximum` that takes three values `x`, `y` and `z`, and returns the maximum of the three."
   ]
  },
  {
   "cell_type": "code",
   "execution_count": 19,
   "metadata": {
    "solution2": "hidden"
   },
   "outputs": [],
   "source": [
    "def maximum(x, y, z):\n",
    "    biggest = x\n",
    "    if (y > biggest):\n",
    "        biggest = y\n",
    "    if (z > biggest):\n",
    "        biggest = z\n",
    "    return biggest"
   ]
  },
  {
   "cell_type": "markdown",
   "metadata": {
    "solution2": "hidden",
    "solution2_first": true
   },
   "source": [
    "###  <span class=\"girk\">Ex 2.9</span> ###\n",
    "Modify your `maximum` function by adding an optional argument `minimum`, that if set to `True` makes the function return the minimum of the three rather than the maximum."
   ]
  },
  {
   "cell_type": "code",
   "execution_count": 23,
   "metadata": {
    "solution2": "hidden"
   },
   "outputs": [],
   "source": [
    "def maximum(x, y, z, minimum = False):\n",
    "    \n",
    "    if minimum:\n",
    "        smallest = x\n",
    "        if (y < c):\n",
    "            smallest = y\n",
    "        if (z < smallest):\n",
    "            smallest = z\n",
    "        return smallest\n",
    "    else:\n",
    "        biggest = x\n",
    "        if (y > biggest):\n",
    "            biggest = y\n",
    "        if (z > biggest):\n",
    "            biggest = z\n",
    "        return biggest"
   ]
  },
  {
   "cell_type": "markdown",
   "metadata": {},
   "source": [
    "### <font color = \"blue\"> Arbitrary argument lists </font> ###\n",
    "Finally, we can define functions with arbitrary argument lists. This allows you to write a function that expects a list of any old arguments, with any names. We won't use this very much: it's sometimes handy for passing lots of options to a function."
   ]
  },
  {
   "cell_type": "code",
   "execution_count": 28,
   "metadata": {},
   "outputs": [
    {
     "name": "stdout",
     "output_type": "stream",
     "text": [
      "apples\n",
      "\n",
      "pairs\n",
      "\n",
      "oranges\n",
      "\n"
     ]
    }
   ],
   "source": [
    "def fancy_args(*args):\n",
    "    for arg in args:\n",
    "        print(arg + \"\\n\")\n",
    "        \n",
    "fancy_args(\"apples\",\"pairs\",\"oranges\")"
   ]
  },
  {
   "cell_type": "markdown",
   "metadata": {
    "solution2": "hidden",
    "solution2_first": true
   },
   "source": [
    "### <span class=\"girk\">Ex 2.10</span> ###\n",
    "Write a function that takes any number of numbers (but at least one) as arguments and returns the maximum."
   ]
  },
  {
   "cell_type": "code",
   "execution_count": 24,
   "metadata": {
    "solution2": "hidden"
   },
   "outputs": [],
   "source": [
    "def maximum2(*args):\n",
    "    biggest = arg[0]\n",
    "    for arg in args:\n",
    "        if arg > biggest:\n",
    "            biggest = arg\n",
    "    return biggest"
   ]
  },
  {
   "cell_type": "markdown",
   "metadata": {},
   "source": [
    "## Scope ##\n",
    "Here is a simple function."
   ]
  },
  {
   "cell_type": "code",
   "execution_count": 29,
   "metadata": {},
   "outputs": [],
   "source": [
    "def f1():\n",
    "    x = 1\n",
    "    print(\"in function f1\")\n",
    "    return x "
   ]
  },
  {
   "cell_type": "markdown",
   "metadata": {},
   "source": [
    "You can call the function:"
   ]
  },
  {
   "cell_type": "code",
   "execution_count": 30,
   "metadata": {},
   "outputs": [
    {
     "name": "stdout",
     "output_type": "stream",
     "text": [
      "in function f1\n"
     ]
    },
    {
     "data": {
      "text/plain": [
       "1"
      ]
     },
     "execution_count": 30,
     "metadata": {},
     "output_type": "execute_result"
    }
   ],
   "source": [
    "f1()"
   ]
  },
  {
   "cell_type": "markdown",
   "metadata": {},
   "source": [
    "but the following won't work (so it's commented out)"
   ]
  },
  {
   "cell_type": "code",
   "execution_count": 31,
   "metadata": {},
   "outputs": [],
   "source": [
    "# print(x)"
   ]
  },
  {
   "cell_type": "markdown",
   "metadata": {},
   "source": [
    "Why not? The reason is that any variables that are declared inside the function definition are ***local to the function***: they can't be \"seen\" by the rest of the program, and they only exist while the program is executing the function. This is helpful in that it compartmentalises parts of your program; you can be sure that variables in your function won't be affected by code elsewhere. \n",
    "\n",
    "On the other hand, any variables declared in your main program are ***global***, meaning that they can be accessed from anywhere, including from inside a function."
   ]
  },
  {
   "cell_type": "code",
   "execution_count": 32,
   "metadata": {},
   "outputs": [
    {
     "name": "stdout",
     "output_type": "stream",
     "text": [
      "1\n"
     ]
    }
   ],
   "source": [
    "def f2():\n",
    "    print(y)\n",
    "\n",
    "# this is the main program\n",
    "y = 1\n",
    "f2() # works fine"
   ]
  }
 ],
 "metadata": {
  "kernelspec": {
   "display_name": "Python 3",
   "language": "python",
   "name": "python3"
  },
  "language_info": {
   "codemirror_mode": {
    "name": "ipython",
    "version": 3
   },
   "file_extension": ".py",
   "mimetype": "text/x-python",
   "name": "python",
   "nbconvert_exporter": "python",
   "pygments_lexer": "ipython3",
   "version": "3.7.0"
  },
  "toc": {
   "base_numbering": 1,
   "nav_menu": {},
   "number_sections": false,
   "sideBar": true,
   "skip_h1_title": false,
   "title_cell": "Table of Contents",
   "title_sidebar": "Contents",
   "toc_cell": false,
   "toc_position": {},
   "toc_section_display": true,
   "toc_window_display": true
  }
 },
 "nbformat": 4,
 "nbformat_minor": 2
}
